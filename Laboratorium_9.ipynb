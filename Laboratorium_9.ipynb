{
 "cells": [
  {
   "cell_type": "markdown",
   "metadata": {},
   "source": [
    "#### Funkcje oraz instrukcje warunkowe"
   ]
  },
  {
   "cell_type": "markdown",
   "metadata": {},
   "source": [
    "## Definiowanie funkcji"
   ]
  },
  {
   "cell_type": "markdown",
   "metadata": {},
   "source": [
    "Definiowane funkcji w Ruby odbywa się za pomocą słów kluczowych `def` i `end`. Najprostsza funkcj może wyglądać następująco:\n",
    "```ruby\n",
    "def pozdrowienie\n",
    "  puts \"Witaj epi\"\n",
    "end\n",
    "```\n",
    "\n",
    "Wywołujemy ją podając jej nazwę, np.\n",
    "```ruby\n",
    "pozdrowienie\n",
    "pozdrowienie\n",
    "pozdrowienie\n",
    "```"
   ]
  },
  {
   "cell_type": "code",
   "execution_count": 5,
   "metadata": {
    "collapsed": false
   },
   "outputs": [
    {
     "name": "stdout",
     "output_type": "stream",
     "text": [
      "Witaj epi\n"
     ]
    }
   ],
   "source": [
    "def pozdrowienie\n",
    "  puts \"Witaj epi\"\n",
    "end\n",
    "pozdrowienie"
   ]
  },
  {
   "cell_type": "markdown",
   "metadata": {},
   "source": [
    "Nawiasy w wywołaniu są opcjonalne, w szczególności, jeśli funkcja nie przyjmuje parametrów. Ale można również ją wywołać z nawiasami - w szczególności jeśli mamy zagnieżdżone wywołania funkcji:\n",
    "```ruby\n",
    "pozdrowienie()\n",
    "```"
   ]
  },
  {
   "cell_type": "code",
   "execution_count": 6,
   "metadata": {
    "collapsed": false
   },
   "outputs": [
    {
     "name": "stdout",
     "output_type": "stream",
     "text": [
      "Witaj epi\n"
     ]
    }
   ],
   "source": [
    "pozdrowienie()"
   ]
  },
  {
   "cell_type": "markdown",
   "metadata": {},
   "source": [
    "**Uwaga**: IRuby zapamiętuje zdefiniowane funkcje, ale tylko w ramach jednej sesji uruchomieniowej. Dlatego jeśli chcemy wykorzystać wcześniej zdefiniowaną funkcję w innej komórce, musimy się upewnić, czy została zdefiniowana w tej samej sesji."
   ]
  },
  {
   "cell_type": "markdown",
   "metadata": {},
   "source": [
    "Funkcje mogą przyjmować parametry. Ponieważ Ruby jest językiem dynamicznie typizowanym, nie określamy ich typów, a jedynie nazwy:\n",
    "```ruby\n",
    "def pozdrowienie(imie)\n",
    "  puts \"Witaj #{imie}\"\n",
    "end\n",
    "\n",
    "pozdrowienie(\"Anno\")\n",
    "pozdrowienie(\"Błażeju\")\n",
    "pozdrowienie(\"Zosiu\")\n",
    "```"
   ]
  },
  {
   "cell_type": "code",
   "execution_count": 9,
   "metadata": {
    "collapsed": false
   },
   "outputs": [
    {
     "name": "stdout",
     "output_type": "stream",
     "text": [
      "Witaj Anno\n",
      "Witaj Błażeju\n",
      "Witaj Zosiu\n"
     ]
    }
   ],
   "source": [
    "def pozdrowienie(imie)\n",
    "  puts \"Witaj #{imie}\"\n",
    "end\n",
    "pozdrowienie(\"Anno\")\n",
    "pozdrowienie(\"Błażeju\")\n",
    "pozdrowienie(\"Zosiu\")"
   ]
  },
  {
   "cell_type": "markdown",
   "metadata": {},
   "source": [
    "Parametry mogą być opcjonalne - jeśli nie przekażemy wartości, to zostanie użyta wartość domyślna, np.\n",
    "```ruby\n",
    "def pozdrowienie(imie=\"człowieku\")\n",
    "  puts \"Witaj #{imie}\"\n",
    "end\n",
    "\n",
    "pozdrowienie(\"Anno\")\n",
    "pozdrowienie\n",
    "```"
   ]
  },
  {
   "cell_type": "code",
   "execution_count": 11,
   "metadata": {
    "collapsed": false
   },
   "outputs": [
    {
     "name": "stdout",
     "output_type": "stream",
     "text": [
      "Witaj Anno\n",
      "Witaj człowieku\n"
     ]
    }
   ],
   "source": [
    "def pozdrowienie(imie=\"człowieku\")\n",
    "  puts \"Witaj #{imie}\"\n",
    "end\n",
    "pozdrowienie(\"Anno\")\n",
    "pozdrowienie"
   ]
  },
  {
   "cell_type": "markdown",
   "metadata": {},
   "source": [
    "Jako swój wynik, funkcje zwracają wartość ostatniego ewaluowanego (obliczanego) wyrażenia, np.\n",
    "```ruby\n",
    "def razy_dwa(wartosc)\n",
    "  2 * wartosc\n",
    "end\n",
    "\n",
    "razy_dwa(2)\n",
    "```"
   ]
  },
  {
   "cell_type": "code",
   "execution_count": 15,
   "metadata": {
    "collapsed": false
   },
   "outputs": [
    {
     "name": "stdout",
     "output_type": "stream",
     "text": [
      "6\n",
      "8\n"
     ]
    },
    {
     "data": {
      "text/plain": [
       "8"
      ]
     },
     "execution_count": 15,
     "metadata": {},
     "output_type": "execute_result"
    }
   ],
   "source": [
    "def razy_dwa(wartosc)\n",
    "  2 * wartosc\n",
    "end\n",
    "\n",
    "razy_dwa(3)\n",
    "razy_dwa(2)\n",
    "puts razy_dwa(3)\n",
    "puts razy_dwa(4)\n",
    "razy_dwa(4)\n"
   ]
  },
  {
   "cell_type": "markdown",
   "metadata": {},
   "source": [
    "Warto zwrócić uwagę, że funkcja nie zawsze wypisuje coś na ekran (porównaj funkcje `pozdrowienie` oraz `razy_dwa`)! Dlatego jeśli wywołujemy funkcje, które tylko zwracają wartość, musimy sami wyświetlić ich wynik. W przeciwnym razie zostanie wyświetlona wartość tylko ostatniego wywołania. Prównaj:\n",
    "```ruby\n",
    "razy_dwa(3)\n",
    "razy_dwa(4)\n",
    "```\n",
    "oraz\n",
    "```ruby\n",
    "puts razy_dwa(3)\n",
    "puts razy_dwa(4)\n",
    "```"
   ]
  },
  {
   "cell_type": "markdown",
   "metadata": {},
   "source": [
    "### Zadanie 1"
   ]
  },
  {
   "cell_type": "markdown",
   "metadata": {},
   "source": [
    "Zdefiniuj funkcję `pierwiastek_szescienny`, która oblicza pierwiastek szcześcienny z przekazanego parametru. Jeśli użytkownik nie przekaże żadnego parametru, to funkcja powinna zwracać wartość 0. Sprawdź działanie funkcj dla następujących przypadków:\n",
    "* 8\n",
    "* 27\n",
    "* brak parametru\n",
    "\n",
    "Dlaczego wartość otrzymana dla 27 jest niedokładna?"
   ]
  },
  {
   "cell_type": "code",
   "execution_count": 20,
   "metadata": {
    "collapsed": false
   },
   "outputs": [
    {
     "data": {
      "text/plain": [
       "2"
      ]
     },
     "execution_count": 20,
     "metadata": {},
     "output_type": "execute_result"
    }
   ],
   "source": [
    "def pierwiastek_szescienny(wynik = 0)\n",
    "  Math.cbrt(wynik).to_i\n",
    "end\n",
    "\n",
    "pierwiastek_szescienny(8)"
   ]
  },
  {
   "cell_type": "markdown",
   "metadata": {},
   "source": [
    "## Instrukcja warunkowa `if`"
   ]
  },
  {
   "cell_type": "markdown",
   "metadata": {},
   "source": [
    "Podstawową instrukcją warunkową w Ruby jest `if`. \n",
    "\n",
    "Jest ona podobna do instrukcji z języcka C:\n",
    "```ruby\n",
    "def parzystosc(liczba)\n",
    "  if liczba % 2 == 0\n",
    "    \"Liczba #{liczba} jest parzysta\"\n",
    "  else\n",
    "    \"Liczba #{liczba} jest nieparzysta\"\n",
    "  end\n",
    "end\n",
    "\n",
    "puts parzystosc(11)\n",
    "puts parzystosc(12)\n",
    "```"
   ]
  },
  {
   "cell_type": "code",
   "execution_count": 22,
   "metadata": {
    "collapsed": false
   },
   "outputs": [
    {
     "name": "stdout",
     "output_type": "stream",
     "text": [
      "Liczba 11 jest nieparzysta\n",
      "Liczba 12 jest parzysta\n"
     ]
    }
   ],
   "source": [
    "def parzystosc(liczba)\n",
    "  if liczba % 2 == 0\n",
    "    \"Liczba #{liczba} jest parzysta\"\n",
    "  else\n",
    "    \"Liczba #{liczba} jest nieparzysta\"\n",
    "  end\n",
    "end\n",
    "puts parzystosc(11)\n",
    "puts parzystosc(12)"
   ]
  },
  {
   "cell_type": "markdown",
   "metadata": {},
   "source": [
    "Instrukcja `if` nie wymaga użycia nawiasów wokół warunku. Ponadto zamiast nawiasów klamrowych wykorzystywane są wyłącznie słowa kluczowe: opcjonalne `else` oraz wymagane `end`. Jeśli w instrukcji występuje połączenie instrukcji `else` z `if` to używa się innego słowa kluczowego `elsif`:\n",
    "```ruby\n",
    "def jezyk(plik)\n",
    "  print \"#{plik} -> \"\n",
    "  if plik =~ /\\.rb\\z/\n",
    "    puts \"Język Ruby\"\n",
    "  elsif plik =~ /\\.c\\z/\n",
    "    puts \"Język C\"\n",
    "  elsif plik =~ /\\.java\\z/\n",
    "    puts \"Język Java\"\n",
    "  else\n",
    "    puts \"Nieznany język programowania\"\n",
    "  end\n",
    "end\n",
    "jezyk(\"program.c\")\n",
    "jezyk(\"inny_program.rb\")\n",
    "jezyk(\"prosty_program.scala\")\n",
    "```"
   ]
  },
  {
   "cell_type": "code",
   "execution_count": 25,
   "metadata": {
    "collapsed": false
   },
   "outputs": [
    {
     "name": "stdout",
     "output_type": "stream",
     "text": [
      "program.c -> Język C\n",
      "inny_program.rb -> Język Ruby\n",
      "prosty_program.scala -> Nieznany język programowania\n"
     ]
    }
   ],
   "source": [
    "def jezyk(plik)\n",
    "  print \"#{plik} -> \"\n",
    "  if plik =~ /\\.rb\\z/\n",
    "    puts \"Język Ruby\"\n",
    "  elsif plik =~ /\\.c\\z/\n",
    "    puts \"Język C\"\n",
    "  elsif plik =~ /\\.java\\z/\n",
    "    puts \"Język Java\"\n",
    "  else\n",
    "    puts \"Nieznany język programowania\"\n",
    "  end\n",
    "end\n",
    "jezyk(\"program.c\")\n",
    "jezyk(\"inny_program.rb\")\n",
    "jezyk(\"prosty_program.scala\")"
   ]
  },
  {
   "cell_type": "markdown",
   "metadata": {},
   "source": [
    "W języku Ruby występują tylko dwie wartości, które oznaczają fałsz: wartość `nil` oraz wartość `false`. Wszystkie pozostałe wartości traktowane są jako prawda. Dlatego np. w poprzednim przykładzie, nawet gdyby dopasowanie dało wynik `0`, tzn. zaczynało się na początku łańcucha, kod zadziałałby poprawnie:\n",
    "```ruby\n",
    "if 0 \n",
    "  \"Zero jest prawdą\"\n",
    "else\n",
    "  \"Zero jest fałszem\"\n",
    "end\n",
    "```  "
   ]
  },
  {
   "cell_type": "code",
   "execution_count": 28,
   "metadata": {
    "collapsed": false
   },
   "outputs": [
    {
     "data": {
      "text/plain": [
       "\"Zero jest fałszem\""
      ]
     },
     "execution_count": 28,
     "metadata": {},
     "output_type": "execute_result"
    }
   ],
   "source": [
    "if false \n",
    "  \"Zero jest prawdą\"\n",
    "else\n",
    "  \"Zero jest fałszem\"\n",
    "end"
   ]
  },
  {
   "cell_type": "markdown",
   "metadata": {},
   "source": [
    "Złożone wyrażenia logiczne konstruowane są za pomocą operatorów logicznych: `||` (lub), `&&` (i) oraz `!` (nie). Przy złożonych warunkach warto użyć nawiasów:\n",
    "```ruby\n",
    "def dobry_wybor?(plik)\n",
    "  print \"#{plik} -> \"\n",
    "  if !(plik =~ /\\.rb\\z/) && !(plik =~ /\\.py\\z/)\n",
    "    puts \"to kiepski wybór\"\n",
    "  else\n",
    "    puts \"to dobry wybór\"\n",
    "  end\n",
    "end\n",
    "\n",
    "dobry_wybor?(\"rails.rb\")\n",
    "dobry_wybor?(\"django.py\")\n",
    "dobry_wybor?(\"yoomla.php\")\n",
    "\n",
    "```"
   ]
  },
  {
   "cell_type": "code",
   "execution_count": 29,
   "metadata": {
    "collapsed": false
   },
   "outputs": [
    {
     "name": "stdout",
     "output_type": "stream",
     "text": [
      "rails.rb -> to dobry wybór\n",
      "django.py -> to dobry wybór\n",
      "yoomla.php -> to kiepski wybór\n"
     ]
    }
   ],
   "source": [
    "def dobry_wybor?(plik)\n",
    "  print \"#{plik} -> \"\n",
    "  if !(plik =~ /\\.rb\\z/) && !(plik =~ /\\.py\\z/)\n",
    "    puts \"to kiepski wybór\"\n",
    "  else\n",
    "    puts \"to dobry wybór\"\n",
    "  end\n",
    "end\n",
    "\n",
    "dobry_wybor?(\"rails.rb\")\n",
    "dobry_wybor?(\"django.py\")\n",
    "dobry_wybor?(\"yoomla.php\")"
   ]
  },
  {
   "cell_type": "markdown",
   "metadata": {},
   "source": [
    "**Uwaga!** W powyższym przykładzie nawiasy są wymagane. Isotna jest tutaj kolejność działań. Moża to sprawdzić na następujących przykładach:\n",
    "```ruby\n",
    "puts !\"aaa\" =~ /b/\n",
    "puts !(\"aaa\" =~ /b/)\n",
    "```"
   ]
  },
  {
   "cell_type": "code",
   "execution_count": 32,
   "metadata": {
    "collapsed": false
   },
   "outputs": [
    {
     "name": "stderr",
     "output_type": "stream",
     "text": [
      "<main>: warning: string literal in condition\n"
     ]
    },
    {
     "name": "stdout",
     "output_type": "stream",
     "text": [
      "\n",
      "true\n"
     ]
    }
   ],
   "source": [
    "puts !\"aaa\" =~ /b/\n",
    "puts !(\"aaa\" =~ /b/)\n"
   ]
  },
  {
   "cell_type": "markdown",
   "metadata": {},
   "source": [
    "Dlatego jeśli chcemy zanegować dopasowanie do wzorca lepiej użyć specjalnego operatora !~:\n",
    "```ruby\n",
    "\"aaa\" !~ /b/\n",
    "```"
   ]
  },
  {
   "cell_type": "code",
   "execution_count": 33,
   "metadata": {
    "collapsed": false
   },
   "outputs": [
    {
     "data": {
      "text/plain": [
       "true"
      ]
     },
     "execution_count": 33,
     "metadata": {},
     "output_type": "execute_result"
    }
   ],
   "source": [
    "\"aaa\" !~ /b/"
   ]
  },
  {
   "cell_type": "markdown",
   "metadata": {},
   "source": [
    "Istnieją również operatory `or`, `and` oraz `not`, ale nie powinno się ich stosować w instrukcji warunkowej, gdyż są to instrukcje sterujące."
   ]
  },
  {
   "cell_type": "markdown",
   "metadata": {},
   "source": [
    "### Zadanie 2"
   ]
  },
  {
   "cell_type": "markdown",
   "metadata": {},
   "source": [
    "Zdefiniuj funkcje `przytnij`, która akceptuje jeden parametr - napis. Funkcja powinna zwarcać ten sam napis, jeśli jest krótszy niż 30 znaków. W przeciwnym razie przycinać napis oraz dodawać 3 kropki na końcu, wskazujące, że napis zostł ucięty. Łącznie z kropkami napis nie może być dłuższy niż 15 znaków. Ostatni wyraz w napisie powinie być wyświetlony zawsze  w całości.\n",
    "Przykładowo:\n",
    "```ruby\n",
    "puts przytnij(\"Ala ma kota.\")                # Ala ma kota.\n",
    "puts przytnij(\"Ala ma kota, papugę i psa.\")  # Ala ma kota,...\n",
    "puts przytnij(\"Ala ma psa, papugę i kota.\")  # Ala ma psa,...\n",
    "```"
   ]
  },
  {
   "cell_type": "code",
   "execution_count": 12,
   "metadata": {
    "collapsed": false
   },
   "outputs": [
    {
     "name": "stdout",
     "output_type": "stream",
     "text": [
      "Ala ma psa,...\n",
      "\n"
     ]
    }
   ],
   "source": [
    "def przytnij(napis) \n",
    "  if napis.length <= 15 \n",
    "    puts napis \n",
    "  else  \n",
    "    koniec = napis[0..12].rindex(\" \")\n",
    "    puts napis[0...koniec]+\"...\"\n",
    "  end\n",
    "end\n",
    "\n",
    "puts przytnij(\"Ala ma psa, papugę i kota.\")\n"
   ]
  },
  {
   "cell_type": "markdown",
   "metadata": {},
   "source": [
    "## Instrukcja warunkowa `unless`"
   ]
  },
  {
   "cell_type": "markdown",
   "metadata": {},
   "source": [
    "W języku Ruby istnieje również polecenie `unless`, które działa jak \"odwrócony\" `if`, tzn. warunek jest zanegowany. Poprzedni przykład możemy wyrazić następująco:\n",
    "```ruby\n",
    "def dobry_wybor?(plik)\n",
    "  unless plik =~ /\\.rb\\z/\n",
    "    puts \"To kiepski wybór\"\n",
    "  end\n",
    "end\n",
    "dobry_wybor?(\"program.c\")\n",
    "```"
   ]
  },
  {
   "cell_type": "code",
   "execution_count": 13,
   "metadata": {
    "collapsed": false
   },
   "outputs": [
    {
     "name": "stdout",
     "output_type": "stream",
     "text": [
      "To kiepski wybór\n"
     ]
    }
   ],
   "source": [
    "def dobry_wybor?(plik)\n",
    "  unless plik =~ /\\.rb\\z/\n",
    "    puts \"To kiepski wybór\"\n",
    "  end\n",
    "end\n",
    "dobry_wybor?(\"program.c\")"
   ]
  },
  {
   "cell_type": "markdown",
   "metadata": {},
   "source": [
    "`if` oraz `unless` mogą również działać jako tzw. modyfikatory, stojące po instrukcji. Pozwalają zwięźlej zapisać warunkowe wykonanie pojedynczej instrukcji:\n",
    "```ruby\n",
    "def dobry_wybor?(plik)\n",
    "  puts \"To kiepski wybór\" unless plik =~ /\\.rb\\z/\n",
    "end\n",
    "dobry_wybor?(\"program.c\")\n",
    "```\n",
    "Tego rodzaju kod czyta się bardzo naturalnie i często spotykany jest w programach napisanych w Ruby."
   ]
  },
  {
   "cell_type": "code",
   "execution_count": 14,
   "metadata": {
    "collapsed": false
   },
   "outputs": [
    {
     "name": "stdout",
     "output_type": "stream",
     "text": [
      "To kiepski wybór\n"
     ]
    }
   ],
   "source": [
    "def dobry_wybor?(plik)\n",
    "  puts \"To kiepski wybór\" unless plik =~ /\\.rb\\z/\n",
    "end\n",
    "dobry_wybor?(\"program.c\")"
   ]
  },
  {
   "cell_type": "markdown",
   "metadata": {},
   "source": [
    "## Rodzaje równości"
   ]
  },
  {
   "cell_type": "markdown",
   "metadata": {},
   "source": [
    "W instrukcjach warunkowych często porównujemy wartości, np. dwóch zmiennych. Należy zwrócić uwagę, że istnieje wiele rodzajów równości, które mają zastosowanie w różnych okolicznościach:\n",
    "* `==` - naturalna równość\n",
    "* `eql?` - dodatkowy wymóg - identyczny typ wartości\n",
    "* `equal?` - identyczne obiekty\n",
    "* `=~` - dopasowanie wyrażeń regularnych\n",
    "* `===` - porównywanie w instrukcji selekcji"
   ]
  },
  {
   "cell_type": "markdown",
   "metadata": {},
   "source": [
    "Naturalne równość jest najczęściej wykorzystywana i pozwala porównywać proste oraz złożone wartości:\n",
    "```ruby\n",
    "p 0 == 0.0\n",
    "p \"ala\" == \"ala\"\n",
    "p [1,2,3] == [1,2,3]\n",
    "```"
   ]
  },
  {
   "cell_type": "code",
   "execution_count": 16,
   "metadata": {
    "collapsed": false
   },
   "outputs": [
    {
     "name": "stdout",
     "output_type": "stream",
     "text": [
      "true\n",
      "true\n"
     ]
    },
    {
     "data": {
      "text/plain": [
       "true"
      ]
     },
     "execution_count": 16,
     "metadata": {},
     "output_type": "execute_result"
    }
   ],
   "source": [
    "p 0 == 0.0\n",
    "p \"ala\" == \"ala\"\n",
    "[1,2,3] == [1,2,3]"
   ]
  },
  {
   "cell_type": "markdown",
   "metadata": {},
   "source": [
    "`eql?` dodaje wymóg, aby wartości posiadały identyczny typ. Np. liczby całkowite i rzeczywiste mają inny typ, dlatego ta instrukcja może służyć do ich odróżnienia:\n",
    "```ruby\n",
    "p 0.eql?(0.0)\n",
    "p \"ala\".eql?(\"ala\")\n",
    "p [1,2,3].eql?([1,2,3])\n",
    "```"
   ]
  },
  {
   "cell_type": "code",
   "execution_count": 17,
   "metadata": {
    "collapsed": false
   },
   "outputs": [
    {
     "name": "stdout",
     "output_type": "stream",
     "text": [
      "false\n",
      "true\n",
      "true\n"
     ]
    },
    {
     "data": {
      "text/plain": [
       "true"
      ]
     },
     "execution_count": 17,
     "metadata": {},
     "output_type": "execute_result"
    }
   ],
   "source": [
    "p 0.eql?(0.0)\n",
    "p \"ala\".eql?(\"ala\")\n",
    "p [1,2,3].eql?([1,2,3])"
   ]
  },
  {
   "cell_type": "markdown",
   "metadata": {},
   "source": [
    "Operator `eql?` jest stosowany w połączeniu z tablicami asocjacyjnymi - to ten rodzaj równości wykorzystywany jest do zastępowania zawartości tablicy:\n",
    "```ruby\n",
    "tablica = {}\n",
    "tablica[1] = \"jeden\"\n",
    "tablica[1.0] = \"jeden\"\n",
    "p tablica\n",
    "\n",
    "tablica = {}\n",
    "tablica[\"1\"] = \"jeden\"\n",
    "tablica[\"1\"] = \"jeden\"\n",
    "p tablica\n",
    "```"
   ]
  },
  {
   "cell_type": "code",
   "execution_count": 18,
   "metadata": {
    "collapsed": false
   },
   "outputs": [
    {
     "name": "stdout",
     "output_type": "stream",
     "text": [
      "{1=>\"jeden\", 1.0=>\"jeden\"}\n",
      "{\"1\"=>\"jeden\"}\n"
     ]
    },
    {
     "data": {
      "text/plain": [
       "{\"1\"=>\"jeden\"}"
      ]
     },
     "execution_count": 18,
     "metadata": {},
     "output_type": "execute_result"
    }
   ],
   "source": [
    "tablica = {}\n",
    "tablica[1] = \"jeden\"\n",
    "tablica[1.0] = \"jeden\"\n",
    "p tablica\n",
    "\n",
    "tablica = {}\n",
    "tablica[\"1\"] = \"jeden\"\n",
    "tablica[\"1\"] = \"jeden\"\n",
    "p tablica"
   ]
  },
  {
   "cell_type": "markdown",
   "metadata": {},
   "source": [
    "`equal?` jest jeszcze bardziej restrykcyjne. Wymagana jest _identyczność_ obiektów. Zasadniczo dwa różne obiekty choć mogą mieć identyczną wartość, nie będą równe względem tej równości, jeśli nie są dokładnie tym samym obiektem:\n",
    "```ruby\n",
    "a = \"ala\"\n",
    "p a.equal?(a)\n",
    "b = a\n",
    "p a.equal?(b)\n",
    "c = \"ala\"\n",
    "p a.equal?(c)\n",
    "```"
   ]
  },
  {
   "cell_type": "code",
   "execution_count": 19,
   "metadata": {
    "collapsed": false
   },
   "outputs": [
    {
     "name": "stdout",
     "output_type": "stream",
     "text": [
      "true\n",
      "true\n",
      "false\n"
     ]
    },
    {
     "data": {
      "text/plain": [
       "false"
      ]
     },
     "execution_count": 19,
     "metadata": {},
     "output_type": "execute_result"
    }
   ],
   "source": [
    "a = \"ala\"\n",
    "p a.equal?(a)\n",
    "b = a\n",
    "p a.equal?(b)\n",
    "c = \"ala\"\n",
    "p a.equal?(c)"
   ]
  },
  {
   "cell_type": "markdown",
   "metadata": {},
   "source": [
    "Istnieją jednak pewne wartości, które zawsze posiadają dokładnie jedną instancję - są to symbole oraz \"małe\" liczby całkowite:\n",
    "```ruby\n",
    "a = :ala\n",
    "b = :ala\n",
    "p a.equal?(b)\n",
    "a = 10\n",
    "b = 10\n",
    "p a.equal?(b)\n",
    "a = 10.0\n",
    "b = 10.0\n",
    "p a.equal?(b)\n",
    "```"
   ]
  },
  {
   "cell_type": "code",
   "execution_count": 20,
   "metadata": {
    "collapsed": false
   },
   "outputs": [
    {
     "name": "stdout",
     "output_type": "stream",
     "text": [
      "true\n",
      "true\n",
      "true\n"
     ]
    },
    {
     "data": {
      "text/plain": [
       "true"
      ]
     },
     "execution_count": 20,
     "metadata": {},
     "output_type": "execute_result"
    }
   ],
   "source": [
    "a = :ala\n",
    "b = :ala\n",
    "p a.equal?(b)\n",
    "a = 10\n",
    "b = 10\n",
    "p a.equal?(b)\n",
    "a = 10.0\n",
    "b = 10.0\n",
    "p a.equal?(b)"
   ]
  },
  {
   "cell_type": "markdown",
   "metadata": {},
   "source": [
    "Operator `=~` wykorzystywany jest do dopasowywania wyrażeń regularnych. Podobnie działa również operator `===`, ale ma on szersze zastosowanie, przede wszystkim dlatego, że wykorzystywany jest w instrukcji selekcji (patrz niżej). Wiele typów posiada metodę pozwalającą na wykorzystanie tego operatora, np. \n",
    "```ruby\n",
    "p (1..5) === 3\n",
    "p (1..5) === 5\n",
    "p (1...5) === 5\n",
    "p Fixnum === 1\n",
    "p /^a/ === \"ala\"\n",
    "```"
   ]
  },
  {
   "cell_type": "code",
   "execution_count": 21,
   "metadata": {
    "collapsed": false
   },
   "outputs": [
    {
     "name": "stdout",
     "output_type": "stream",
     "text": [
      "true\n",
      "true\n",
      "false\n",
      "true\n",
      "true\n"
     ]
    },
    {
     "data": {
      "text/plain": [
       "true"
      ]
     },
     "execution_count": 21,
     "metadata": {},
     "output_type": "execute_result"
    }
   ],
   "source": [
    "p (1..5) === 3\n",
    "p (1..5) === 5\n",
    "p (1...5) === 5\n",
    "p Fixnum === 1\n",
    "p /^a/ === \"ala\""
   ]
  },
  {
   "cell_type": "markdown",
   "metadata": {},
   "source": [
    "**Uwaga**: operator `===` nie jest symetryczny!\n",
    "```ruby\n",
    "p (1..5) === 3\n",
    "p 3 === (1..5)\n",
    "```"
   ]
  },
  {
   "cell_type": "code",
   "execution_count": 22,
   "metadata": {
    "collapsed": false
   },
   "outputs": [
    {
     "name": "stdout",
     "output_type": "stream",
     "text": [
      "true\n",
      "false\n"
     ]
    },
    {
     "data": {
      "text/plain": [
       "false"
      ]
     },
     "execution_count": 22,
     "metadata": {},
     "output_type": "execute_result"
    }
   ],
   "source": [
    "p (1..5) === 3\n",
    "p 3 === (1..5)"
   ]
  },
  {
   "cell_type": "markdown",
   "metadata": {},
   "source": [
    "### Zadanie 3"
   ]
  },
  {
   "cell_type": "markdown",
   "metadata": {},
   "source": [
    "Zdefiniuj funkcję `rowne_tablice?(a,b)`, która zwraca prawdę, jeśli tablice są równe, bez względu na kolejność elementów. Np.\n",
    "```ruby\n",
    "puts rowne_tablice?([1,2,3],[1,2,3])    # true\n",
    "puts rowne_tablice?([1,2,3],[3,2,1])    # true \n",
    "puts rowne_tablice?([1,2,3],[1,2])      # false\n",
    "puts rowne_tablice?([1,2,3],[1,2,3,4])  # false\n",
    "```"
   ]
  },
  {
   "cell_type": "code",
   "execution_count": 28,
   "metadata": {
    "collapsed": false
   },
   "outputs": [
    {
     "name": "stdout",
     "output_type": "stream",
     "text": [
      "true\n",
      "true\n",
      "false\n",
      "false\n"
     ]
    }
   ],
   "source": [
    "def rowne_tablice?(a,b)\n",
    "  a.sort == b.sort\n",
    "end\n",
    "puts rowne_tablice?([1,2,3],[1,2,3]) \n",
    "puts rowne_tablice?([1,2,3],[3,2,1]) \n",
    "puts rowne_tablice?([1,2,3],[1,2]) \n",
    "puts rowne_tablice?([1,2,3],[1,2,3,4])"
   ]
  },
  {
   "cell_type": "markdown",
   "metadata": {},
   "source": [
    "## Instrukcja selekcji - `case`"
   ]
  },
  {
   "cell_type": "markdown",
   "metadata": {},
   "source": [
    "Instrukcja `case` to instrukcja selekcji. Najprostsze jej zastosowanie polega na porównaniu zmiennej ze stałą, np.\n",
    "```ruby\n",
    "case liczba\n",
    "when 1\n",
    "  puts \"jeden\"\n",
    "when 2\n",
    "  puts \"dwa\"\n",
    "when 3 \n",
    "  puts \"trzy\"\n",
    "else\n",
    "  puts \"bardzo duża liczba\"\n",
    "end\n",
    "```"
   ]
  },
  {
   "cell_type": "code",
   "execution_count": 29,
   "metadata": {
    "collapsed": false
   },
   "outputs": [
    {
     "name": "stdout",
     "output_type": "stream",
     "text": [
      "bardzo duża liczba\n"
     ]
    }
   ],
   "source": [
    "liczba = 5\n",
    "case liczba\n",
    "when 1\n",
    "  puts \"jeden\"\n",
    "when 2\n",
    "  puts \"dwa\"\n",
    "when 3 \n",
    "  puts \"trzy\"\n",
    "else\n",
    "  puts \"bardzo duża liczba\"\n",
    "end"
   ]
  },
  {
   "cell_type": "markdown",
   "metadata": {},
   "source": [
    "Dzięki wykorzystaniu operatora `===` zastosowanie instrukcji `case` jest znacznie szersze. Można np. porównać wartość zmiennej z szeregiem wyrażeń regularnych:\n",
    "```ruby\n",
    "case plik\n",
    "when /\\.rb\\z/\n",
    "  \"Ruby\"\n",
    "when /\\.pl\\z/\n",
    "  \"Perl\"\n",
    "when /\\.php\\z/\n",
    "  \"PHP\"\n",
    "when /\\.c\\z/\n",
    "  \"Język C\"\n",
    "else\n",
    "  \"Nieznany język\"\n",
    "end\n",
    "```"
   ]
  },
  {
   "cell_type": "code",
   "execution_count": 30,
   "metadata": {
    "collapsed": false
   },
   "outputs": [
    {
     "data": {
      "text/plain": [
       "\"PHP\""
      ]
     },
     "execution_count": 30,
     "metadata": {},
     "output_type": "execute_result"
    }
   ],
   "source": [
    "plik = \"moj_program.php\"\n",
    "case plik\n",
    "when /\\.rb\\z/\n",
    "  \"Ruby\"\n",
    "when /\\.pl\\z/\n",
    "  \"Perl\"\n",
    "when /\\.php\\z/\n",
    "  \"PHP\"\n",
    "when /\\.c\\z/\n",
    "  \"Język C\"\n",
    "else\n",
    "  \"Nieznany język\"\n",
    "end"
   ]
  },
  {
   "cell_type": "markdown",
   "metadata": {},
   "source": [
    "Możliwe jest również zastosowanie zakresów:\n",
    "```ruby\n",
    "case rok\n",
    "when 1901..2000\n",
    "  \"XX\"\n",
    "when 2001..2100\n",
    "  \"XXI\"\n",
    "when 2101..2200\n",
    "  \"XXII\"\n",
    "else\n",
    "  \"ciemne wieki\"\n",
    "end\n",
    "```"
   ]
  },
  {
   "cell_type": "code",
   "execution_count": 32,
   "metadata": {
    "collapsed": false
   },
   "outputs": [
    {
     "data": {
      "text/plain": [
       "\"ciemne wieki\""
      ]
     },
     "execution_count": 32,
     "metadata": {},
     "output_type": "execute_result"
    }
   ],
   "source": [
    "rok = 994\n",
    "case rok\n",
    "when 1901..2000\n",
    "  \"XX\"\n",
    "when 2001..2100\n",
    "  \"XXI\"\n",
    "when 2101..2200\n",
    "  \"XXII\"\n",
    "else\n",
    "  \"ciemne wieki\"\n",
    "end"
   ]
  }
 ],
 "metadata": {
  "kernelspec": {
   "display_name": "Ruby 2.2.3",
   "language": "ruby",
   "name": "ruby"
  },
  "language_info": {
   "file_extension": "rb",
   "mimetype": "application/x-ruby",
   "name": "ruby",
   "version": "2.2.3"
  }
 },
 "nbformat": 4,
 "nbformat_minor": 0
}
