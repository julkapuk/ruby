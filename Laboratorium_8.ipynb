{
 "cells": [
  {
   "cell_type": "markdown",
   "metadata": {},
   "source": [
    "# Zapytania złożone"
   ]
  },
  {
   "cell_type": "markdown",
   "metadata": {},
   "source": [
    "Przed rozpoczęciem pracy konieczne jest skonfigurowanie bazy oraz załadowanie danych:\n",
    "```ruby\n",
    "$:.unshift \".\"\n",
    "require 'db_setup'\n",
    "require 'db_load'\n",
    "```"
   ]
  },
  {
   "cell_type": "code",
   "execution_count": 1,
   "metadata": {
    "collapsed": false
   },
   "outputs": [
    {
     "name": "stdout",
     "output_type": "stream",
     "text": [
      "==  AddIndicesMigration: migrating ============================================\n",
      "==  AddIndicesMigration: migrated (0.0000s) ===================================\n",
      "\n"
     ]
    },
    {
     "data": {
      "text/plain": [
       "true"
      ]
     },
     "execution_count": 1,
     "metadata": {},
     "output_type": "execute_result"
    }
   ],
   "source": [
    "$:.unshift \".\"\n",
    "require 'db_setup'\n",
    "require 'db_load'"
   ]
  },
  {
   "cell_type": "markdown",
   "metadata": {},
   "source": [
    "W dalszych zadaniach będzie wykonywać polecenia korzystając z następujących klas, zmapowanych na odpowiadające im \n",
    "table w bazie danych:\n",
    "```ruby\n",
    "class Author < ActiveRecord::Base\n",
    "  # name      (string)\n",
    "  # surname   (string)\n",
    "  # born      (datetime) \n",
    "  # died      (datetime)\n",
    "  # image_url (string)\n",
    "  \n",
    "  has_many :books\n",
    "end\n",
    "\n",
    "class Book < ActiveRecord::Base\n",
    "  # title     (string)\n",
    "  # author    (Author)\n",
    "  # published (integer)\n",
    "\n",
    "  belongs_to :author\n",
    "end\n",
    "```"
   ]
  },
  {
   "cell_type": "markdown",
   "metadata": {},
   "source": [
    "ActiveRecord udostępnia interfejs pozwalający wyszukiwać dane w bazie również z wykorzystaniem związków zdefiniowanych pomiędzy\n",
    "klasami. Do definiowania tych związków służą polecenia `has_many`, `belongs_to`, `has_one` oraz `has_and_belongs_to_many`.\n",
    "Przykładowo jeśli chcemy dowiedzieć się kto był autorem pierwszej książki wykonujemy zapytanie:\n",
    "```ruby\n",
    "book = Book.first\n",
    "puts book.title\n",
    "puts book.author\n",
    "```"
   ]
  },
  {
   "cell_type": "code",
   "execution_count": 2,
   "metadata": {
    "collapsed": false
   },
   "outputs": [
    {
     "name": "stdout",
     "output_type": "stream",
     "text": [
      "Végjáték (regény)\n",
      "#<Author:0x000000020ed740>\n"
     ]
    }
   ],
   "source": [
    "book = Book.first\n",
    "puts book.title\n",
    "puts book.author"
   ]
  },
  {
   "cell_type": "markdown",
   "metadata": {},
   "source": [
    "Niestety prezentowany wynik nie jest zbyt użyteczny. Ponieważ jednak metoda `author` zwraca obiekt, możemy na nim wywoływać \n",
    "metody - tak samo jak w przypadku autora załadowanego bezpośrednio z wykorzystaniem metod zdefiniowanych dla klasy `Author`\n",
    "```ruby\n",
    "book = Book.first\n",
    "puts book.title\n",
    "puts \"#{book.author.name} #{book.author.surname}\"\n",
    "```"
   ]
  },
  {
   "cell_type": "code",
   "execution_count": 61,
   "metadata": {
    "collapsed": false
   },
   "outputs": [
    {
     "name": "stdout",
     "output_type": "stream",
     "text": [
      "Végjáték (regény)\n",
      "Orson Scott Card\n"
     ]
    }
   ],
   "source": [
    "book = Book.first\n",
    "puts book.title\n",
    "puts \"#{book.author.name} #{book.author.surname}\""
   ]
  },
  {
   "cell_type": "markdown",
   "metadata": {},
   "source": [
    "Co więcej, jeśli mamy do czynienia ze związkiem jeden-do-wiele bądź wiele-do-wiele, możemy wywyływać wszystkie dotychczas poznane \n",
    "metody na kolekcji powiązanych obiektów. Istotnie ułatwia to wyszukiwanie potrzebnych danych:\n",
    "```ruby\n",
    "books = Book.where(\"title like 'A%'\")\n",
    "books.each do |book|\n",
    "  puts book.title\n",
    "end\n",
    "\n",
    "author = Author.where(surname: \"Tołstoj\").first\n",
    "books = author.books.where(\"title like 'A%'\")\n",
    "books.each do |book|\n",
    "  puts book.title\n",
    "end\n",
    "```"
   ]
  },
  {
   "cell_type": "code",
   "execution_count": 4,
   "metadata": {
    "collapsed": false
   },
   "outputs": [
    {
     "name": "stdout",
     "output_type": "stream",
     "text": [
      "Anna Karenina\n",
      "Azazel (powieść)\n",
      "Anna Karenina\n"
     ]
    },
    {
     "data": {
      "text/plain": [
       "[#<Book id: 33, title: \"Anna Karenina\", language: nil, author_id: 35, published: 1877, image_url: \"http://commons.wikimedia.org/wiki/Special:FilePath...\">]"
      ]
     },
     "execution_count": 4,
     "metadata": {},
     "output_type": "execute_result"
    }
   ],
   "source": [
    "books = Book.where(\"title like 'A%'\")\n",
    "books.each do |book|\n",
    "  puts book.title\n",
    "end\n",
    "\n",
    "author = Author.where(surname: \"Tołstoj\").first\n",
    "books = author.books.where(\"title like 'A%'\")\n",
    "books.each do |book|\n",
    "  puts book.title\n",
    "end"
   ]
  },
  {
   "cell_type": "markdown",
   "metadata": {},
   "source": [
    "Różnica pomiędzy tymi zapytaniami polega na tym, że w pierwszym przypadku szukamy książki, których tytuł zaczyna się na \"A\" \n",
    "w całym zbiorze książek, a w drugi przypadku wśród książek napisanych przez Tołstoja."
   ]
  },
  {
   "cell_type": "markdown",
   "metadata": {},
   "source": [
    "Aby umożliwić formatowanie wyników zapytania, IRuby udostępnia metodę `IRuby.html`, która pozwala na wyświetlanie kodu\n",
    "HTML. Przykładowo\n",
    "```ruby\n",
    "IRuby.html \"<h1>Test HTML-a</h1>\"\n",
    "```"
   ]
  },
  {
   "cell_type": "code",
   "execution_count": 2,
   "metadata": {
    "collapsed": false
   },
   "outputs": [
    {
     "data": {
      "text/html": [
       "<h1>Test HTML-a</h1>"
      ],
      "text/plain": [
       "\"<h1>Test HTML-a</h1>\""
      ]
     },
     "execution_count": 2,
     "metadata": {},
     "output_type": "execute_result"
    }
   ],
   "source": [
    "IRuby.html \"<h1>Test HTML-a</h1>\""
   ]
  },
  {
   "cell_type": "markdown",
   "metadata": {},
   "source": [
    "Dzięki temu będziemy mogli formatować wyniki zapytań, a wszczególności wyświetlać obrazy przedstwiające autorów oraz książki. \n",
    "Należy jednak wziąć pod uwagę, że nie wszystkie książki oraz nie wszyscy autorzy posiadają odpowiadające im obrazki.\n",
    "Aby wyświetlić imię, nazwisko oraz obraz pierwszego autora piszemy:\n",
    "```ruby\n",
    "author = Author.where(\"image_url is not null\").first\n",
    "IRuby.html \"<h1>#{author.name} #{author.surname}</h1><img src='#{author.image_url}'/>\"\n",
    "```"
   ]
  },
  {
   "cell_type": "code",
   "execution_count": 6,
   "metadata": {
    "collapsed": false
   },
   "outputs": [
    {
     "data": {
      "text/html": [
       "<h1>Orson Scott Card</h1><img src='http://commons.wikimedia.org/wiki/Special:FilePath/Orson_Scott_Card_at_BYU_Symposium_20080216_closeup.jpg?width=300'/>"
      ],
      "text/plain": [
       "\"<h1>Orson Scott Card</h1><img src='http://commons.wikimedia.org/wiki/Special:FilePath/Orson_Scott_Card_at_BYU_Symposium_20080216_closeup.jpg?width=300'/>\""
      ]
     },
     "execution_count": 6,
     "metadata": {},
     "output_type": "execute_result"
    }
   ],
   "source": [
    "author = Author.where(\"image_url is not null\").first\n",
    "IRuby.html \"<h1>#{author.name} #{author.surname}</h1><img src='#{author.image_url}'/>\""
   ]
  },
  {
   "cell_type": "markdown",
   "metadata": {},
   "source": [
    "Możemy również zdefniować funkcję, np. `display_author`, której zadaniem będzie wyświetlenie autora w tej postaci. \n",
    "Jedyny problem polega na tym, że funkcja `IRuby.html` może być wywoływana tylko raz. Dlatego jeśli chcemy wyświetlić kilku autorów,\n",
    "musimy połączyć odpowiadające im kody HTML i wynik przekazać do funkcji `html`\n",
    "```ruby\n",
    "def display_author(author)\n",
    "  \"<h1>#{author.name} #{author.surname}</h1><img src='#{author.image_url}'/>\"\n",
    "end\n",
    "\n",
    "author_1 = Author.where(\"image_url is not null\").first\n",
    "author_2 = Author.where(\"image_url is not null\").offset(1).first\n",
    "document = display_author(author_1)\n",
    "document += display_author(author_2)\n",
    "IRuby.html document\n",
    "```"
   ]
  },
  {
   "cell_type": "code",
   "execution_count": 31,
   "metadata": {
    "collapsed": false
   },
   "outputs": [
    {
     "data": {
      "text/html": [
       "<h1>Orson Scott Card 1951-08-24 -  </h1><img src='http://commons.wikimedia.org/wiki/Special:FilePath/Orson_Scott_Card_at_BYU_Symposium_20080216_closeup.jpg?width=300'/><h1>Andrzej Sapkowski 1948-06-21 -  </h1><img src='http://commons.wikimedia.org/wiki/Special:FilePath/Sapkowski.jpg?width=300'/>"
      ],
      "text/plain": [
       "\"<h1>Orson Scott Card 1951-08-24 -  </h1><img src='http://commons.wikimedia.org/wiki/Special:FilePath/Orson_Scott_Card_at_BYU_Symposium_20080216_closeup.jpg?width=300'/><h1>Andrzej Sapkowski 1948-06-21 -  </h1><img src='http://commons.wikimedia.org/wiki/Special:FilePath/Sapkowski.jpg?width=300'/>\""
      ]
     },
     "execution_count": 31,
     "metadata": {},
     "output_type": "execute_result"
    }
   ],
   "source": [
    "def display_author(author)\n",
    "  \"<h1>#{author.name} #{author.surname} #{author.born} - #{author.died} </h1><img src='#{author.image_url}'/>\"\n",
    "end\n",
    "\n",
    "author_1 = Author.where(\"image_url is not null\").first\n",
    "author_2 = Author.where(\"image_url is not null\").offset(1).first\n",
    "document = display_author(author_1)\n",
    "document += display_author(author_2)\n",
    "IRuby.html document"
   ]
  },
  {
   "cell_type": "markdown",
   "metadata": {},
   "source": [
    "## Zadania"
   ]
  },
  {
   "cell_type": "markdown",
   "metadata": {},
   "source": [
    "### Zadanie 1"
   ]
  },
  {
   "cell_type": "markdown",
   "metadata": {},
   "source": [
    "Wyświetl wszystkich autorów, którzy urodzili się przed rokiem 1900."
   ]
  },
  {
   "cell_type": "code",
   "execution_count": 3,
   "metadata": {
    "collapsed": false
   },
   "outputs": [
    {
     "name": "stdout",
     "output_type": "stream",
     "text": [
      "Juliusz Słowacki 1809-09-04\n",
      "Henryk Sienkiewicz 1846-05-05\n",
      "Eliza Orzeszkowa 1841-06-06\n",
      "Adam Mickiewicz 1798-12-24\n",
      "Jack London 1876-01-12\n",
      "Mikołaj Kopernik 1473-02-19\n",
      "Maria Franciszka Kozłowska 1862-05-27\n",
      "William Szekspir 1564-04-23\n",
      "John Ronald Reuel Tolkien 1892-01-03\n",
      "Aleksander Dumas (ojciec) 1802-07-24\n",
      "Tadeusz Dołęga-Mostowicz 1898-08-10\n",
      "Vladimir Nabokov 1899-04-22\n",
      "Adolf Hitler 1889-04-20\n",
      "Benedykt Chmielowski 1700-03-20\n",
      "Aldous Huxley 1894-07-26\n",
      "Honoré de Balzac 1799-05-20\n",
      "Franz Kafka 1883-07-03\n",
      "Howard Phillips Lovecraft 1890-08-20\n",
      "Lew Tołstoj 1828-09-09\n",
      "Ilja Ilf 1897-10-15\n",
      "Gabriela Zapolska 1857-03-30\n",
      "Clive Staples Lewis 1898-11-29\n",
      "Iwan Turgieniew 1818-11-09\n",
      "Lucy Maud Montgomery 1874-11-30\n",
      "Aleksander Majkowski 1876-07-17\n"
     ]
    },
    {
     "data": {
      "text/plain": [
       "[#<Author id: 3, name: \"Juliusz\", surname: \"Słowacki\", born: \"1809-09-04\", died: \"1849-04-03\", image_url: nil>, #<Author id: 4, name: \"Henryk\", surname: \"Sienkiewicz\", born: \"1846-05-05\", died: \"1916-11-05\", image_url: nil>, #<Author id: 5, name: \"Eliza\", surname: \"Orzeszkowa\", born: \"1841-06-06\", died: \"1910-05-18\", image_url: nil>, #<Author id: 10, name: \"Adam\", surname: \"Mickiewicz\", born: \"1798-12-24\", died: \"1855-11-26\", image_url: nil>, #<Author id: 13, name: \"Jack\", surname: \"London\", born: \"1876-01-12\", died: \"1916-11-22\", image_url: \"http://commons.wikimedia.org/wiki/Special:FilePath...\">, #<Author id: 17, name: \"Mikołaj\", surname: \"Kopernik\", born: \"1473-02-19\", died: \"1543-05-24\", image_url: \"http://commons.wikimedia.org/wiki/Special:FilePath...\">, #<Author id: 18, name: \"Maria Franciszka\", surname: \"Kozłowska\", born: \"1862-05-27\", died: nil, image_url: \"http://commons.wikimedia.org/wiki/Special:FilePath...\">, #<Author id: 20, name: \"William\", surname: \"Szekspir\", born: \"1564-04-23\", died: \"1616-05-03\", image_url: \"http://commons.wikimedia.org/wiki/Special:FilePath...\">, #<Author id: 22, name: \"John Ronald Reuel\", surname: \"Tolkien\", born: \"1892-01-03\", died: \"1973-09-02\", image_url: \"http://commons.wikimedia.org/wiki/Special:FilePath...\">, #<Author id: 23, name: \"Aleksander Dumas\", surname: \"(ojciec)\", born: \"1802-07-24\", died: \"1870-12-05\", image_url: \"http://commons.wikimedia.org/wiki/Special:FilePath...\">, #<Author id: 24, name: \"Tadeusz\", surname: \"Dołęga-Mostowicz\", born: \"1898-08-10\", died: \"1939-09-20\", image_url: \"http://commons.wikimedia.org/wiki/Special:FilePath...\">, #<Author id: 25, name: \"Vladimir\", surname: \"Nabokov\", born: \"1899-04-22\", died: \"1977-07-02\", image_url: \"http://commons.wikimedia.org/wiki/Special:FilePath...\">, #<Author id: 26, name: \"Adolf\", surname: \"Hitler\", born: \"1889-04-20\", died: \"1945-04-30\", image_url: \"http://commons.wikimedia.org/wiki/Special:FilePath...\">, #<Author id: 28, name: \"Benedykt\", surname: \"Chmielowski\", born: \"1700-03-20\", died: \"1763-04-07\", image_url: \"http://commons.wikimedia.org/wiki/Special:FilePath...\">, #<Author id: 29, name: \"Aldous\", surname: \"Huxley\", born: \"1894-07-26\", died: \"1963-11-22\", image_url: \"http://commons.wikimedia.org/wiki/Special:FilePath...\">, #<Author id: 30, name: \"Honoré de\", surname: \"Balzac\", born: \"1799-05-20\", died: \"1850-08-18\", image_url: \"http://commons.wikimedia.org/wiki/Special:FilePath...\">, #<Author id: 31, name: \"Franz\", surname: \"Kafka\", born: \"1883-07-03\", died: \"1924-06-03\", image_url: \"http://commons.wikimedia.org/wiki/Special:FilePath...\">, #<Author id: 33, name: \"Howard Phillips\", surname: \"Lovecraft\", born: \"1890-08-20\", died: \"1937-03-15\", image_url: \"http://commons.wikimedia.org/wiki/Special:FilePath...\">, #<Author id: 35, name: \"Lew\", surname: \"Tołstoj\", born: \"1828-09-09\", died: \"1910-11-20\", image_url: \"http://commons.wikimedia.org/wiki/Special:FilePath...\">, #<Author id: 40, name: \"Ilja\", surname: \"Ilf\", born: \"1897-10-15\", died: \"1937-04-13\", image_url: \"http://commons.wikimedia.org/wiki/Special:FilePath...\">, #<Author id: 42, name: \"Gabriela\", surname: \"Zapolska\", born: \"1857-03-30\", died: \"1921-12-17\", image_url: \"http://commons.wikimedia.org/wiki/Special:FilePath...\">, #<Author id: 45, name: \"Clive Staples\", surname: \"Lewis\", born: \"1898-11-29\", died: \"1963-11-22\", image_url: \"http://commons.wikimedia.org/wiki/Special:FilePath...\">, #<Author id: 48, name: \"Iwan\", surname: \"Turgieniew\", born: \"1818-11-09\", died: \"1883-09-03\", image_url: \"http://commons.wikimedia.org/wiki/Special:FilePath...\">, #<Author id: 51, name: \"Lucy Maud\", surname: \"Montgomery\", born: \"1874-11-30\", died: \"1942-04-24\", image_url: \"http://commons.wikimedia.org/wiki/Special:FilePath...\">, #<Author id: 57, name: \"Aleksander\", surname: \"Majkowski\", born: \"1876-07-17\", died: \"1938-02-10\", image_url: \"http://commons.wikimedia.org/wiki/Special:FilePath...\">]"
      ]
     },
     "execution_count": 3,
     "metadata": {},
     "output_type": "execute_result"
    }
   ],
   "source": [
    "author = Author.where(born: (\"0\"..\"1899-12-31\")) \n",
    "author.each do |author|\n",
    "  puts \"#{author.name} #{author.surname} #{author.born}\"\n",
    "end"
   ]
  },
  {
   "cell_type": "markdown",
   "metadata": {},
   "source": [
    "### Zadanie 2"
   ]
  },
  {
   "cell_type": "markdown",
   "metadata": {},
   "source": [
    "Zmodyfikuj funkcję wyświetlającą autorów tak aby obejmowała ich datę urodzin i śmierci w formacie `dzień.miesiąc.rok`. Następnie wyświetl wszystkich autorów,\n",
    "którzy zmarli w XX wieku."
   ]
  },
  {
   "cell_type": "code",
   "execution_count": 29,
   "metadata": {
    "collapsed": false
   },
   "outputs": [
    {
     "name": "stdout",
     "output_type": "stream",
     "text": [
      "Henryk Sienkiewicz 05.05.1846 - 05.11.1916\n",
      "Eliza Orzeszkowa 06.06.1841 - 18.05.1910\n",
      "Jack London 12.01.1876 - 22.11.1916\n",
      "Antoni Gołubiew 25.02.1907 - 27.06.1979\n",
      "George Orwell 25.06.1903 - 21.01.1950\n",
      "John Ronald Reuel Tolkien 03.01.1892 - 02.09.1973\n",
      "Tadeusz Dołęga-Mostowicz 10.08.1898 - 20.09.1939\n",
      "Vladimir Nabokov 22.04.1899 - 02.07.1977\n",
      "Adolf Hitler 20.04.1889 - 30.04.1945\n",
      "Aldous Huxley 26.07.1894 - 22.11.1963\n",
      "Franz Kafka 03.07.1883 - 03.06.1924\n",
      "Howard Phillips Lovecraft 20.08.1890 - 15.03.1937\n",
      "Karol Olgierd Borchardt 25.03.1905 - 20.05.1986\n",
      "Lew Tołstoj 09.09.1828 - 20.11.1910\n",
      "Janusz Zajdel 15.08.1938 - 19.07.1985\n",
      "Isaac Asimov 04.10.1919 - 06.04.1992\n",
      "Ilja Ilf 15.10.1897 - 13.04.1937\n",
      "Jewgienij Pietrow (pisarz) 13.12.1903 - 02.07.1942\n",
      "Gabriela Zapolska 30.03.1857 - 17.12.1921\n",
      "Clive Staples Lewis 29.11.1898 - 22.11.1963\n",
      "Lucy Maud Montgomery 30.11.1874 - 24.04.1942\n",
      "Alfred Szklarski 21.01.1912 - 09.04.1992\n",
      "Aleksander Majkowski 17.07.1876 - 10.02.1938\n",
      "Ian Fleming 28.05.1908 - 12.08.1964\n"
     ]
    },
    {
     "data": {
      "text/plain": [
       "[#<Author id: 4, name: \"Henryk\", surname: \"Sienkiewicz\", born: \"1846-05-05\", died: \"1916-11-05\", image_url: nil>, #<Author id: 5, name: \"Eliza\", surname: \"Orzeszkowa\", born: \"1841-06-06\", died: \"1910-05-18\", image_url: nil>, #<Author id: 13, name: \"Jack\", surname: \"London\", born: \"1876-01-12\", died: \"1916-11-22\", image_url: \"http://commons.wikimedia.org/wiki/Special:FilePath...\">, #<Author id: 16, name: \"Antoni\", surname: \"Gołubiew\", born: \"1907-02-25\", died: \"1979-06-27\", image_url: \"http://commons.wikimedia.org/wiki/Special:FilePath...\">, #<Author id: 19, name: \"George\", surname: \"Orwell\", born: \"1903-06-25\", died: \"1950-01-21\", image_url: \"http://commons.wikimedia.org/wiki/Special:FilePath...\">, #<Author id: 22, name: \"John Ronald Reuel\", surname: \"Tolkien\", born: \"1892-01-03\", died: \"1973-09-02\", image_url: \"http://commons.wikimedia.org/wiki/Special:FilePath...\">, #<Author id: 24, name: \"Tadeusz\", surname: \"Dołęga-Mostowicz\", born: \"1898-08-10\", died: \"1939-09-20\", image_url: \"http://commons.wikimedia.org/wiki/Special:FilePath...\">, #<Author id: 25, name: \"Vladimir\", surname: \"Nabokov\", born: \"1899-04-22\", died: \"1977-07-02\", image_url: \"http://commons.wikimedia.org/wiki/Special:FilePath...\">, #<Author id: 26, name: \"Adolf\", surname: \"Hitler\", born: \"1889-04-20\", died: \"1945-04-30\", image_url: \"http://commons.wikimedia.org/wiki/Special:FilePath...\">, #<Author id: 29, name: \"Aldous\", surname: \"Huxley\", born: \"1894-07-26\", died: \"1963-11-22\", image_url: \"http://commons.wikimedia.org/wiki/Special:FilePath...\">, #<Author id: 31, name: \"Franz\", surname: \"Kafka\", born: \"1883-07-03\", died: \"1924-06-03\", image_url: \"http://commons.wikimedia.org/wiki/Special:FilePath...\">, #<Author id: 33, name: \"Howard Phillips\", surname: \"Lovecraft\", born: \"1890-08-20\", died: \"1937-03-15\", image_url: \"http://commons.wikimedia.org/wiki/Special:FilePath...\">, #<Author id: 34, name: \"Karol Olgierd\", surname: \"Borchardt\", born: \"1905-03-25\", died: \"1986-05-20\", image_url: \"http://commons.wikimedia.org/wiki/Special:FilePath...\">, #<Author id: 35, name: \"Lew\", surname: \"Tołstoj\", born: \"1828-09-09\", died: \"1910-11-20\", image_url: \"http://commons.wikimedia.org/wiki/Special:FilePath...\">, #<Author id: 37, name: \"Janusz\", surname: \"Zajdel\", born: \"1938-08-15\", died: \"1985-07-19\", image_url: \"http://commons.wikimedia.org/wiki/Special:FilePath...\">, #<Author id: 39, name: \"Isaac\", surname: \"Asimov\", born: \"1919-10-04\", died: \"1992-04-06\", image_url: \"http://commons.wikimedia.org/wiki/Special:FilePath...\">, #<Author id: 40, name: \"Ilja\", surname: \"Ilf\", born: \"1897-10-15\", died: \"1937-04-13\", image_url: \"http://commons.wikimedia.org/wiki/Special:FilePath...\">, #<Author id: 41, name: \"Jewgienij Pietrow\", surname: \"(pisarz)\", born: \"1903-12-13\", died: \"1942-07-02\", image_url: \"http://commons.wikimedia.org/wiki/Special:FilePath...\">, #<Author id: 42, name: \"Gabriela\", surname: \"Zapolska\", born: \"1857-03-30\", died: \"1921-12-17\", image_url: \"http://commons.wikimedia.org/wiki/Special:FilePath...\">, #<Author id: 45, name: \"Clive Staples\", surname: \"Lewis\", born: \"1898-11-29\", died: \"1963-11-22\", image_url: \"http://commons.wikimedia.org/wiki/Special:FilePath...\">, #<Author id: 51, name: \"Lucy Maud\", surname: \"Montgomery\", born: \"1874-11-30\", died: \"1942-04-24\", image_url: \"http://commons.wikimedia.org/wiki/Special:FilePath...\">, #<Author id: 53, name: \"Alfred\", surname: \"Szklarski\", born: \"1912-01-21\", died: \"1992-04-09\", image_url: \"http://commons.wikimedia.org/wiki/Special:FilePath...\">, #<Author id: 57, name: \"Aleksander\", surname: \"Majkowski\", born: \"1876-07-17\", died: \"1938-02-10\", image_url: \"http://commons.wikimedia.org/wiki/Special:FilePath...\">, #<Author id: 58, name: \"Ian\", surname: \"Fleming\", born: \"1908-05-28\", died: \"1964-08-12\", image_url: \"http://commons.wikimedia.org/wiki/Special:FilePath...\">]"
      ]
     },
     "execution_count": 29,
     "metadata": {},
     "output_type": "execute_result"
    }
   ],
   "source": [
    "author = Author.where(died: (\"1900-1-1\"..\"2000-12-31\")) \n",
    "author.each do |author|\n",
    "  puts \"#{author.name} #{author.surname} #{author.born.strftime(\"%d.%m.%Y\")} - #{author.died.strftime(\"%d.%m.%Y\")}\"\n",
    "end"
   ]
  },
  {
   "cell_type": "markdown",
   "metadata": {},
   "source": [
    "### Zadanie 3"
   ]
  },
  {
   "cell_type": "markdown",
   "metadata": {},
   "source": [
    "Wyświetl 5 najmłodszych autorów, którzy posiadają przypisane zdjęcie."
   ]
  },
  {
   "cell_type": "code",
   "execution_count": 51,
   "metadata": {
    "collapsed": false
   },
   "outputs": [
    {
     "name": "stdout",
     "output_type": "stream",
     "text": [
      "Orson Scott Card 24.08.1951\n",
      "Boris Akunin 20.05.1956\n",
      "Rafał A. Ziemkiewicz 13.09.1964\n",
      "J. K. Rowling 31.07.1965\n",
      "Andrzej Pilipiuk 20.03.1974\n"
     ]
    },
    {
     "data": {
      "text/plain": [
       "[#<Author id: 11, name: \"Orson Scott\", surname: \"Card\", born: \"1951-08-24\", died: nil, image_url: \"http://commons.wikimedia.org/wiki/Special:FilePath...\">, #<Author id: 36, name: \"Boris\", surname: \"Akunin\", born: \"1956-05-20\", died: nil, image_url: \"http://commons.wikimedia.org/wiki/Special:FilePath...\">, #<Author id: 55, name: \"Rafał A.\", surname: \"Ziemkiewicz\", born: \"1964-09-13\", died: nil, image_url: \"http://commons.wikimedia.org/wiki/Special:FilePath...\">, #<Author id: 21, name: \"J. K.\", surname: \"Rowling\", born: \"1965-07-31\", died: nil, image_url: \"http://commons.wikimedia.org/wiki/Special:FilePath...\">, #<Author id: 46, name: \"Andrzej\", surname: \"Pilipiuk\", born: \"1974-03-20\", died: nil, image_url: \"http://commons.wikimedia.org/wiki/Special:FilePath...\">]"
      ]
     },
     "execution_count": 51,
     "metadata": {},
     "output_type": "execute_result"
    }
   ],
   "source": [
    "author = Author.where(\"image_url is not null\").order(:born).last(5) \n",
    "author.each do |author|\n",
    "    puts \"#{author.name} #{author.surname} #{author.born.strftime(\"%d.%m.%Y\")}\"\n",
    "end"
   ]
  },
  {
   "cell_type": "markdown",
   "metadata": {},
   "source": [
    "### Zadanie 4"
   ]
  },
  {
   "cell_type": "markdown",
   "metadata": {},
   "source": [
    "Zdefiniuj funkcję `display_book`, która będzie zwracała fragment kodu HTML obejmujący tytuł książki, rok jej wydania oraz\n",
    "przypisany obrazek.\n",
    "Wyświetl najwcześniej wydaną książkę."
   ]
  },
  {
   "cell_type": "code",
   "execution_count": 67,
   "metadata": {
    "collapsed": false
   },
   "outputs": [
    {
     "data": {
      "text/html": [
       "<h1>De revolutionibus orbium coelestium 1543</h1><img src='http://commons.wikimedia.org/wiki/Special:FilePath/Nikolaus_Kopernikus.jpg?width=300'/>"
      ],
      "text/plain": [
       "\"<h1>De revolutionibus orbium coelestium 1543</h1><img src='http://commons.wikimedia.org/wiki/Special:FilePath/Nikolaus_Kopernikus.jpg?width=300'/>\""
      ]
     },
     "execution_count": 67,
     "metadata": {},
     "output_type": "execute_result"
    }
   ],
   "source": [
    "def display_book(book)\n",
    "    \"<h1>#{book.title} #{book.published}</h1><img src='#{book.author.image_url}'/>\"\n",
    "end\n",
    "book = Book.where(\"published is not null and published != 0\").order(:published).first\n",
    "document = display_book(book)\n",
    "IRuby.html document"
   ]
  },
  {
   "cell_type": "markdown",
   "metadata": {},
   "source": [
    "### Zadanie 5"
   ]
  },
  {
   "cell_type": "markdown",
   "metadata": {},
   "source": [
    "Wyświetl wszystkie książki, które nie mają przypisanego roku wydania."
   ]
  },
  {
   "cell_type": "code",
   "execution_count": 43,
   "metadata": {
    "collapsed": false
   },
   "outputs": [],
   "source": [
    "def display_book(book)\n",
    "    \"<h1>#{book.title} #{book.published}</h1><img src='#{book.author.image_url}'/>\"\n",
    "end\n",
    "document = \"\"\n",
    "books = Book.where(\"published is null\")\n",
    "books.each do |book|\n",
    "  document += display_book(book)\n",
    "end\n",
    "IRuby.html document"
   ]
  },
  {
   "cell_type": "markdown",
   "metadata": {},
   "source": [
    "### Zadanie 6"
   ]
  },
  {
   "cell_type": "markdown",
   "metadata": {},
   "source": [
    "Zmodyfikuj funkcję `display_author` tak, aby wyświetlała również wszystkie książki napisane przez autora. Użyj znacznika `<ul>`.\n",
    "Korzystając z tej funkcji wyświetl opis Stanisława Lema."
   ]
  },
  {
   "cell_type": "code",
   "execution_count": null,
   "metadata": {
    "collapsed": true
   },
   "outputs": [],
   "source": []
  },
  {
   "cell_type": "code",
   "execution_count": 17,
   "metadata": {
    "collapsed": false
   },
   "outputs": [
    {
     "data": {
      "text/html": [
       "<h1>Stanisław Lem 12.09.1921 - 27.03.2006 </h1>\n",
       "  <hr />\n",
       "  <img style='float:right;' src='http://commons.wikimedia.org/wiki/Special:FilePath/Stanislaw_Lem_2.jpg?width=300'/>\n",
       "  <ul><li>Sezam i inne opowiadania - 1954</li><li>Inwazja z Aldebarana (zbiór opowiadań) - 1959</li><li>Solaris (powieść) - 1961</li><li>Księga robotów - 1961</li><li>Pamiętnik znaleziony w wannie - 1961</li><li>Noc księżycowa - 1963</li><li>Bajki robotów - 1964</li><li>Niezwyciężony i inne opowiadania - 1964</li><li>Summa technologiae - 1964</li><li>Polowanie (zbiór opowiadań) - 1965</li><li>Głos Pana - 1968</li><li>Bezsenność (zbiór opowiadań) - 1971</li><li>Katar (powieść) - 1976</li><li>Maska (zbiór dzieł) - 1976</li><li>Powtórka (zbiór dzieł) - 1979</li><li>Wizja lokalna (powieść) - 1982</li><li>Pożytek ze smoka - 1993</li><li>Rasa drapieżców. Teksty ostatnie - 2006</li></ul>"
      ],
      "text/plain": [
       "\"<h1>Stanisław Lem 12.09.1921 - 27.03.2006 </h1>\\n  <hr />\\n  <img style='float:right;' src='http://commons.wikimedia.org/wiki/Special:FilePath/Stanislaw_Lem_2.jpg?width=300'/>\\n  <ul><li>Sezam i inne opowiadania - 1954</li><li>Inwazja z Aldebarana (zbiór opowiadań) - 1959</li><li>Solaris (powieść) - 1961</li><li>Księga robotów - 1961</li><li>Pamiętnik znaleziony w wannie - 1961</li><li>Noc księżycowa - 1963</li><li>Bajki robotów - 1964</li><li>Niezwyciężony i inne opowiadania - 1964</li><li>Summa technologiae - 1964</li><li>Polowanie (zbiór opowiadań) - 1965</li><li>Głos Pana - 1968</li><li>Bezsenność (zbiór opowiadań) - 1971</li><li>Katar (powieść) - 1976</li><li>Maska (zbiór dzieł) - 1976</li><li>Powtórka (zbiór dzieł) - 1979</li><li>Wizja lokalna (powieść) - 1982</li><li>Pożytek ze smoka - 1993</li><li>Rasa drapieżców. Teksty ostatnie - 2006</li></ul>\""
      ]
     },
     "execution_count": 17,
     "metadata": {},
     "output_type": "execute_result"
    }
   ],
   "source": [
    "def display_author(author)\n",
    "  document = \"<h1>#{author.name} #{author.surname} #{author.born.strftime(\"%d.%m.%Y\")} - #{author.died.strftime(\"%d.%m.%Y\")} </h1>\n",
    "  <hr />\n",
    "  <img style='float:right;' src='#{author.image_url}'/>\n",
    "  <ul>\"\n",
    "  books = author.books.order(:published)\n",
    "  books.each do |book|\n",
    "    document += \"<li>#{book.title} - #{book.published}</li>\"\n",
    "  end\n",
    "   document += \"</ul>\"\n",
    "end\n",
    "  \n",
    "document = \"\"\n",
    "author = Author.where(surname: \"Lem\").first\n",
    "#dlaczego nie działa bez .first ?\n",
    "\n",
    "document = display_author(author)\n",
    "IRuby.html document\n",
    "\n",
    "\n"
   ]
  },
  {
   "cell_type": "markdown",
   "metadata": {},
   "source": [
    "### Zadanie 7"
   ]
  },
  {
   "cell_type": "markdown",
   "metadata": {},
   "source": [
    "Wśród książek napisanych przez Lema wyświetl wszystkie, które zawieraja w tytule słowo \"zbiór\"."
   ]
  },
  {
   "cell_type": "code",
   "execution_count": 12,
   "metadata": {
    "collapsed": false
   },
   "outputs": [],
   "source": [
    "def display_author(author)\n",
    "  document = \"<h1>#{author.name} #{author.surname} #{author.born.strftime(\"%d.%m.%Y\")} - #{author.died.strftime(\"%d.%m.%Y\")} </h1>\n",
    "  <hr />\n",
    "  <img style='float:right;' src='#{author.image_url}'/>\n",
    "  <ul>\"\n",
    "  books = author.books.where(\"title like '%zbiór%'\")\n",
    "  books.each do |book|\n",
    "    document += \"<li>#{book.title}</li>\"\n",
    "  end\n",
    "   document += \"</ul>\"\n",
    "end\n",
    "  \n",
    "document = \"\"\n",
    "author = Author.where(surname: \"Lem\").first\n",
    "#dlaczego nie działa bez .first ?\n",
    "\n",
    "document = display_author(author)\n",
    "IRuby.html document"
   ]
  },
  {
   "cell_type": "markdown",
   "metadata": {},
   "source": [
    "### Zadanie 8"
   ]
  },
  {
   "cell_type": "markdown",
   "metadata": {},
   "source": [
    "Wśród książek napisanych przez Lema wyświetl te, które zostały wydane w roku jego śmierci."
   ]
  },
  {
   "cell_type": "code",
   "execution_count": 3,
   "metadata": {
    "collapsed": false
   },
   "outputs": [
    {
     "data": {
      "text/html": [
       "<h1>Stanisław Lem 12.09.1921 - 27.03.2006 </h1>\n",
       "  <hr />\n",
       "  <img style='float:right;' src='http://commons.wikimedia.org/wiki/Special:FilePath/Stanislaw_Lem_2.jpg?width=300'/>\n",
       "  <ul><li>Rasa drapieżców. Teksty ostatnie - 2006</li></ul>"
      ],
      "text/plain": [
       "\"<h1>Stanisław Lem 12.09.1921 - 27.03.2006 </h1>\\n  <hr />\\n  <img style='float:right;' src='http://commons.wikimedia.org/wiki/Special:FilePath/Stanislaw_Lem_2.jpg?width=300'/>\\n  <ul><li>Rasa drapieżców. Teksty ostatnie - 2006</li></ul>\""
      ]
     },
     "execution_count": 3,
     "metadata": {},
     "output_type": "execute_result"
    }
   ],
   "source": [
    "def display_author(author)\n",
    "  author_died_year = author.died.strftime(\"%Y\")\n",
    "  document = \"<h1>#{author.name} #{author.surname} #{author.born.strftime(\"%d.%m.%Y\")} - #{author.died.strftime(\"%d.%m.%Y\")} </h1>\n",
    "  <hr />\n",
    "  <img style='float:right;' src='#{author.image_url}'/>\n",
    "  <ul>\"\n",
    "  books = author.books.where(published: author_died_year)\n",
    "  books.each do |book|\n",
    "    document += \"<li>#{book.title} - #{book.published}</li>\"\n",
    "  end\n",
    "   document += \"</ul>\"\n",
    "end\n",
    "  \n",
    "document = \"\"\n",
    "author = Author.where(surname: \"Lem\").first\n",
    "#dlaczego nie działa bez .first ?\n",
    "\n",
    "document = display_author(author)\n",
    "IRuby.html document\n"
   ]
  },
  {
   "cell_type": "markdown",
   "metadata": {},
   "source": [
    "### Zadanie 9"
   ]
  },
  {
   "cell_type": "markdown",
   "metadata": {},
   "source": [
    "Wyświetl wszystkie książki znajdujące się w bazie. Opis powinien zawierać tytuł, imię i nazwisko autora, rok wydania oraz \n",
    "obraz przedstawiający książkę (o ile istnieje)."
   ]
  },
  {
   "cell_type": "code",
   "execution_count": 3,
   "metadata": {
    "collapsed": false
   },
   "outputs": [
    {
     "data": {
      "text/html": [
       "<h1> Wszystkie książki: </h1><hr />\n",
       "  <strong>Végjáték (regény)</strong><img src=''/>\n",
       "  <ul><li>Orson Scott Card - </li></ul><hr />\n",
       "  <strong>Pani Jeziora (powieść)</strong><img src=''/>\n",
       "  <ul><li>Andrzej Sapkowski - 1999</li></ul><hr />\n",
       "  <strong>Bellew Zawierucha</strong><img src=''/>\n",
       "  <ul><li>Jack London - 1912</li></ul><hr />\n",
       "  <strong>Fałszywy trop (powieść)</strong><img src=''/>\n",
       "  <ul><li>Henning Mankell - 1995</li></ul><hr />\n",
       "  <strong>Bajki robotów</strong><img src=''/>\n",
       "  <ul><li>Stanisław Lem - 1964</li></ul><hr />\n",
       "  <strong>Bolesław Chrobry (powieść)</strong><img src=''/>\n",
       "  <ul><li>Antoni Gołubiew - 1947</li></ul><hr />\n",
       "  <strong>De revolutionibus orbium coelestium</strong><img src=''/>\n",
       "  <ul><li>Mikołaj Kopernik - 1543</li></ul><hr />\n",
       "  <strong>Dzieło Wielkiego Miłosierdzia</strong><img src=''/>\n",
       "  <ul><li>Maria Franciszka Kozłowska - 1922</li></ul><hr />\n",
       "  <strong>Folwark zwierzęcy</strong><img src='http://commons.wikimedia.org/wiki/Special:FilePath/Animalism_flag.svg?width=300'/>\n",
       "  <ul><li>George Orwell - 1945</li></ul><hr />\n",
       "  <strong>Hamlet</strong><img src='http://commons.wikimedia.org/wiki/Special:FilePath/Hamlet_quarto_3rd.jpg?width=300'/>\n",
       "  <ul><li>William Szekspir - </li></ul><hr />\n",
       "  <strong>Harry Potter</strong><img src='http://commons.wikimedia.org/wiki/Special:FilePath/Harry_Potter_wordmark.svg?width=300'/>\n",
       "  <ul><li>J. K. Rowling - 1997</li></ul><hr />\n",
       "  <strong>Hobbit, czyli tam i z powrotem</strong><img src=''/>\n",
       "  <ul><li>John Ronald Reuel Tolkien - 1937</li></ul><hr />\n",
       "  <strong>Hrabia Monte Christo</strong><img src='http://commons.wikimedia.org/wiki/Special:FilePath/Louis_Français-Dantès_sur_son_rocher.jpg?width=300'/>\n",
       "  <ul><li>Aleksander Dumas (ojciec) - 1844</li></ul><hr />\n",
       "  <strong>Kariera Nikodema Dyzmy</strong><img src=''/>\n",
       "  <ul><li>Tadeusz Dołęga-Mostowicz - 1932</li></ul><hr />\n",
       "  <strong>Krzyżacy (powieść)</strong><img src='http://commons.wikimedia.org/wiki/Special:FilePath/PL_Henryk_Sienkiewicz-Krzyżacy_0005.jpeg?width=300'/>\n",
       "  <ul><li>Henryk Sienkiewicz - 1900</li></ul><hr />\n",
       "  <strong>Lolita</strong><img src=''/>\n",
       "  <ul><li>Vladimir Nabokov - 1955</li></ul><hr />\n",
       "  <strong>Mein Kampf</strong><img src='http://commons.wikimedia.org/wiki/Special:FilePath/Landsberg.Jail.jpg?width=300'/>\n",
       "  <ul><li>Adolf Hitler - 1925</li></ul><hr />\n",
       "  <strong>Nad Niemnem</strong><img src='http://commons.wikimedia.org/wiki/Special:FilePath/Nad_Niemnem_-_manuscript.jpg?width=300'/>\n",
       "  <ul><li>Eliza Orzeszkowa - 1888</li></ul><hr />\n",
       "  <strong>Niedokończone opowieści</strong><img src=''/>\n",
       "  <ul><li>Christopher Tolkien - 1980</li></ul><hr />\n",
       "  <strong>Nowe Ateny</strong><img src='http://commons.wikimedia.org/wiki/Special:FilePath/Nowe_ateny1.jpg?width=300'/>\n",
       "  <ul><li>Benedykt Chmielowski - 1745</li></ul><hr />\n",
       "  <strong>Nowy wspaniały świat</strong><img src=''/>\n",
       "  <ul><li>Aldous Huxley - 1932</li></ul><hr />\n",
       "  <strong>Ogniem i mieczem</strong><img src='http://commons.wikimedia.org/wiki/Special:FilePath/Podbipieta.JPG?width=300'/>\n",
       "  <ul><li>Henryk Sienkiewicz - 1884</li></ul><hr />\n",
       "  <strong>Ojciec Goriot</strong><img src='http://commons.wikimedia.org/wiki/Special:FilePath/Father_Goriot_by_H._Daumier_(1842).JPG?width=300'/>\n",
       "  <ul><li>Honoré de Balzac - 1835</li></ul><hr />\n",
       "  <strong>Proces (powieść)</strong><img src='http://commons.wikimedia.org/wiki/Special:FilePath/Kafka_Der_Prozess_1925.jpg?width=300'/>\n",
       "  <ul><li>Franz Kafka - 1925</li></ul><hr />\n",
       "  <strong>Psałterz Dawidów</strong><img src='http://commons.wikimedia.org/wiki/Special:FilePath/Kochanowski_-_Psałterz_Dawidów_(1579).jpg?width=300'/>\n",
       "  <ul><li>Jan Kochanowski - 1579</li></ul><hr />\n",
       "  <strong>Quo vadis</strong><img src='http://commons.wikimedia.org/wiki/Special:FilePath/Rzym_popiersie_Sienkiewicza_w_kosciele_Domine_Quo_Vadis.JPG?width=300'/>\n",
       "  <ul><li>Henryk Sienkiewicz - 1896</li></ul><hr />\n",
       "  <strong>Romeo i Julia</strong><img src='http://commons.wikimedia.org/wiki/Special:FilePath/Romeo_and_juliet_brown.jpg?width=300'/>\n",
       "  <ul><li>William Szekspir - 1597</li></ul><hr />\n",
       "  <strong>Silmarillion</strong><img src='http://commons.wikimedia.org/wiki/Special:FilePath/Silmarrillion,_Just_under_the_Cover.jpg?width=300'/>\n",
       "  <ul><li>John Ronald Reuel Tolkien - 1977</li></ul><hr />\n",
       "  <strong>Solaris (powieść)</strong><img src='http://commons.wikimedia.org/wiki/Special:FilePath/Solaris,_various_editions_02.jpg?width=300'/>\n",
       "  <ul><li>Stanisław Lem - 1961</li></ul><hr />\n",
       "  <strong>Władca Pierścieni</strong><img src='http://commons.wikimedia.org/wiki/Special:FilePath/Unico_Anello.png?width=300'/>\n",
       "  <ul><li>John Ronald Reuel Tolkien - 1954</li></ul><hr />\n",
       "  <strong>Zew Cthulhu (opowiadanie)</strong><img src=''/>\n",
       "  <ul><li>Howard Phillips Lovecraft - 1928</li></ul><hr />\n",
       "  <strong>Znaczy Kapitan</strong><img src=''/>\n",
       "  <ul><li>Karol Olgierd Borchardt - 1960</li></ul><hr />\n",
       "  <strong>Anna Karenina</strong><img src='http://commons.wikimedia.org/wiki/Special:FilePath/AnnaKareninaTitle.jpg?width=300'/>\n",
       "  <ul><li>Lew Tołstoj - 1877</li></ul><hr />\n",
       "  <strong>Azazel (powieść)</strong><img src=''/>\n",
       "  <ul><li>Boris Akunin - 1998</li></ul><hr />\n",
       "  <strong>Bezsenność (zbiór opowiadań)</strong><img src=''/>\n",
       "  <ul><li>Stanisław Lem - 1971</li></ul><hr />\n",
       "  <strong>Cała prawda o planecie Ksi</strong><img src=''/>\n",
       "  <ul><li>Janusz Zajdel - 1983</li></ul><hr />\n",
       "  <strong>Dekorator</strong><img src=''/>\n",
       "  <ul><li>Boris Akunin - 1998</li></ul><hr />\n",
       "  <strong>Diamentowa karoca</strong><img src=''/>\n",
       "  <ul><li>Boris Akunin - 2003</li></ul><hr />\n",
       "  <strong>Dives in misericordia</strong><img src='http://commons.wikimedia.org/wiki/Special:FilePath/John_paul_2_coa.svg?width=300'/>\n",
       "  <ul><li>Jan Paweł II - 1980</li></ul><hr />\n",
       "  <strong>Droga na molo w Wigan</strong><img src=''/>\n",
       "  <ul><li>George Orwell - 1937</li></ul><hr />\n",
       "  <strong>Druga Fundacja</strong><img src=''/>\n",
       "  <ul><li>Isaac Asimov - 1953</li></ul><hr />\n",
       "  <strong>Dwanaście krzeseł</strong><img src='http://commons.wikimedia.org/wiki/Special:FilePath/Ostap_Bender_Monument_in_Kharkiv.jpg?width=300'/>\n",
       "  <ul><li>Ilja Ilf - 1928</li></ul><hr />\n",
       "  <strong>Fundacja (powieść)</strong><img src=''/>\n",
       "  <ul><li>Isaac Asimov - 1951</li></ul><hr />\n",
       "  <strong>Fundacja i Imperium</strong><img src=''/>\n",
       "  <ul><li>Isaac Asimov - 1952</li></ul><hr />\n",
       "  <strong>Gambit turecki</strong><img src=''/>\n",
       "  <ul><li>Boris Akunin - 1998</li></ul><hr />\n",
       "  <strong>Głos Pana</strong><img src=''/>\n",
       "  <ul><li>Stanisław Lem - 1968</li></ul><hr />\n",
       "  <strong>Ich czworo</strong><img src=''/>\n",
       "  <ul><li>Gabriela Zapolska - 1907</li></ul><hr />\n",
       "  <strong>Inwazja z Aldebarana (zbiór opowiadań)</strong><img src=''/>\n",
       "  <ul><li>Stanisław Lem - 1959</li></ul><hr />\n",
       "  <strong>Kamienna małpa</strong><img src=''/>\n",
       "  <ul><li>Jeffery Deaver - 2002</li></ul><hr />\n",
       "  <strong>Katar (powieść)</strong><img src=''/>\n",
       "  <ul><li>Stanisław Lem - 1976</li></ul><hr />\n",
       "  <strong>Kochanek Śmierci</strong><img src=''/>\n",
       "  <ul><li>Boris Akunin - 2001</li></ul><hr />\n",
       "  <strong>Kochanka Śmierci</strong><img src=''/>\n",
       "  <ul><li>Boris Akunin - 2001</li></ul><hr />\n",
       "  <strong>Koronacja (powieść)</strong><img src=''/>\n",
       "  <ul><li>Boris Akunin - 1999</li></ul><hr />\n",
       "  <strong>Kot w stanie czystym</strong><img src=''/>\n",
       "  <ul><li>Terry Pratchett - 1989</li></ul><hr />\n",
       "  <strong>Koń i jego chłopiec</strong><img src=''/>\n",
       "  <ul><li>Clive Staples Lewis - 1954</li></ul><hr />\n",
       "  <strong>Księga robotów</strong><img src=''/>\n",
       "  <ul><li>Stanisław Lem - 1961</li></ul><hr />\n",
       "  <strong>Księgi narodu polskiego i pielgrzymstwa polskiego</strong><img src='http://commons.wikimedia.org/wiki/Special:FilePath/PL_Księgi_narodu_polskiego_i_pielgrzymstwa_polskiego_008.png?width=300'/>\n",
       "  <ul><li>Adam Mickiewicz - 1832</li></ul><hr />\n",
       "  <strong>Kuzynki</strong><img src=''/>\n",
       "  <ul><li>Andrzej Pilipiuk - 2003</li></ul><hr />\n",
       "  <strong>Lewa ręka ciemności</strong><img src=''/>\n",
       "  <ul><li>Ursula K. Le Guin - 1969</li></ul><hr />\n",
       "  <strong>Lewiatan (powieść)</strong><img src=''/>\n",
       "  <ul><li>Boris Akunin - 1998</li></ul><hr />\n",
       "  <strong>Mag (powieść J. Deavera)</strong><img src=''/>\n",
       "  <ul><li>Jeffery Deaver - 2003</li></ul><hr />\n",
       "  <strong>Maska (zbiór dzieł)</strong><img src=''/>\n",
       "  <ul><li>Stanisław Lem - 1976</li></ul><hr />\n",
       "  <strong>Niezwyciężony i inne opowiadania</strong><img src=''/>\n",
       "  <ul><li>Stanisław Lem - 1964</li></ul><hr />\n",
       "  <strong>Noc księżycowa</strong><img src=''/>\n",
       "  <ul><li>Stanisław Lem - 1963</li></ul><hr />\n",
       "  <strong>Ojcowie i dzieci</strong><img src='http://commons.wikimedia.org/wiki/Special:FilePath/Otsy1880.jpg?width=300'/>\n",
       "  <ul><li>Iwan Turgieniew - 0</li></ul><hr />\n",
       "  <strong>Pamiętnik znaleziony w wannie</strong><img src=''/>\n",
       "  <ul><li>Stanisław Lem - 1961</li></ul><hr />\n",
       "  <strong>Pieśń Lodu i Ognia</strong><img src=''/>\n",
       "  <ul><li>George R. R. Martin - 1996</li></ul><hr />\n",
       "  <strong>Podróże z Herodotem</strong><img src=''/>\n",
       "  <ul><li>Ryszard Kapuściński - 2004</li></ul><hr />\n",
       "  <strong>Polowanie (zbiór opowiadań)</strong><img src=''/>\n",
       "  <ul><li>Stanisław Lem - 1965</li></ul><hr />\n",
       "  <strong>Powtórka (zbiór dzieł)</strong><img src=''/>\n",
       "  <ul><li>Stanisław Lem - 1979</li></ul><hr />\n",
       "  <strong>Pożytek ze smoka</strong><img src=''/>\n",
       "  <ul><li>Stanisław Lem - 1993</li></ul><hr />\n",
       "  <strong>Preludium Fundacji</strong><img src=''/>\n",
       "  <ul><li>Isaac Asimov - 1988</li></ul><hr />\n",
       "  <strong>Radca stanu (powieść)</strong><img src=''/>\n",
       "  <ul><li>Boris Akunin - 1998</li></ul><hr />\n",
       "  <strong>Rasa drapieżców. Teksty ostatnie</strong><img src=''/>\n",
       "  <ul><li>Stanisław Lem - 2006</li></ul><hr />\n",
       "  <strong>Rilla ze Złotego Brzegu</strong><img src=''/>\n",
       "  <ul><li>Lucy Maud Montgomery - 1921</li></ul><hr />\n",
       "  <strong>Sen nocy letniej</strong><img src='http://commons.wikimedia.org/wiki/Special:FilePath/MND_title_page.jpg?width=300'/>\n",
       "  <ul><li>William Szekspir - 1600</li></ul><hr />\n",
       "  <strong>Sezam i inne opowiadania</strong><img src=''/>\n",
       "  <ul><li>Stanisław Lem - 1954</li></ul><hr />\n",
       "  <strong>Slavorum apostoli</strong><img src='http://commons.wikimedia.org/wiki/Special:FilePath/John_paul_2_coa.svg?width=300'/>\n",
       "  <ul><li>Jan Paweł II - 1985</li></ul><hr />\n",
       "  <strong>Summa technologiae</strong><img src=''/>\n",
       "  <ul><li>Stanisław Lem - 1964</li></ul><hr />\n",
       "  <strong>Tam gdzie spadają anioły</strong><img src=''/>\n",
       "  <ul><li>Dorota Terakowska - 1998</li></ul><hr />\n",
       "  <strong>Tomek u źródeł Amazonki</strong><img src=''/>\n",
       "  <ul><li>Alfred Szklarski - 1967</li></ul><hr />\n",
       "  <strong>Tomek w Gran Chaco</strong><img src=''/>\n",
       "  <ul><li>Alfred Szklarski - 1987</li></ul><hr />\n",
       "  <strong>Tomek w grobowcach faraonów</strong><img src=''/>\n",
       "  <ul><li>Alfred Szklarski - 1994</li></ul><hr />\n",
       "  <strong>Ut unum sint</strong><img src='http://commons.wikimedia.org/wiki/Special:FilePath/John_paul_2_coa.svg?width=300'/>\n",
       "  <ul><li>Jan Paweł II - 1995</li></ul><hr />\n",
       "  <strong>Veritatis splendor</strong><img src='http://commons.wikimedia.org/wiki/Special:FilePath/John_paul_2_coa.svg?width=300'/>\n",
       "  <ul><li>Jan Paweł II - 1993</li></ul><hr />\n",
       "  <strong>Walc stulecia</strong><img src=''/>\n",
       "  <ul><li>Rafał A. Ziemkiewicz - 1998</li></ul><hr />\n",
       "  <strong>Walet pikowy (powieść)</strong><img src=''/>\n",
       "  <ul><li>Boris Akunin - 1998</li></ul><hr />\n",
       "  <strong>Wampir Lestat</strong><img src=''/>\n",
       "  <ul><li>Anne Rice - 1985</li></ul><hr />\n",
       "  <strong>Wizja lokalna (powieść)</strong><img src=''/>\n",
       "  <ul><li>Stanisław Lem - 1982</li></ul><hr />\n",
       "  <strong>Wojna i pokój</strong><img src='http://commons.wikimedia.org/wiki/Special:FilePath/War-and-peace_1873.gif?width=300'/>\n",
       "  <ul><li>Lew Tołstoj - 1865</li></ul><hr />\n",
       "  <strong>Śmierć Achillesa</strong><img src=''/>\n",
       "  <ul><li>Boris Akunin - 1998</li></ul><hr />\n",
       "  <strong>Życie i przygody Remusa</strong><img src=''/>\n",
       "  <ul><li>Aleksander Majkowski - 1938</li></ul><hr />\n",
       "  <strong>Casino Royale (powieść)</strong><img src=''/>\n",
       "  <ul><li>Ian Fleming - 1953</li></ul><hr />\n",
       "  <strong>Cień kata</strong><img src=''/>\n",
       "  <ul><li>Gene Wolfe - 1980</li></ul><hr />\n",
       "  <strong>Czarnoksiężnik z Archipelagu</strong><img src=''/>\n",
       "  <ul><li>Ursula K. Le Guin - 1968</li></ul><hr />\n",
       "  <strong>Czarownica z Portobello</strong><img src=''/>\n",
       "  <ul><li>Paulo Coelho - 2006</li></ul><hr />\n",
       "  <strong>Czas patriotów (powieść)</strong><img src=''/>\n",
       "  <ul><li>Tom Clancy - 1987</li></ul>"
      ],
      "text/plain": [
       "\"<h1> Wszystkie książki: </h1><hr />\\n  <strong>Végjáték (regény)</strong><img src=''/>\\n  <ul><li>Orson Scott Card - </li></ul><hr />\\n  <strong>Pani Jeziora (powieść)</strong><img src=''/>\\n  <ul><li>Andrzej Sapkowski - 1999</li></ul><hr />\\n  <strong>Bellew Zawierucha</strong><img src=''/>\\n  <ul><li>Jack London - 1912</li></ul><hr />\\n  <strong>Fałszywy trop (powieść)</strong><img src=''/>\\n  <ul><li>Henning Mankell - 1995</li></ul><hr />\\n  <strong>Bajki robotów</strong><img src=''/>\\n  <ul><li>Stanisław Lem - 1964</li></ul><hr />\\n  <strong>Bolesław Chrobry (powieść)</strong><img src=''/>\\n  <ul><li>Antoni Gołubiew - 1947</li></ul><hr />\\n  <strong>De revolutionibus orbium coelestium</strong><img src=''/>\\n  <ul><li>Mikołaj Kopernik - 1543</li></ul><hr />\\n  <strong>Dzieło Wielkiego Miłosierdzia</strong><img src=''/>\\n  <ul><li>Maria Franciszka Kozłowska - 1922</li></ul><hr />\\n  <strong>Folwark zwierzęcy</strong><img src='http://commons.wikimedia.org/wiki/Special:FilePath/Animalism_flag.svg?width=300'/>\\n  <ul><li>George Orwell - 1945</li></ul><hr />\\n  <strong>Hamlet</strong><img src='http://commons.wikimedia.org/wiki/Special:FilePath/Hamlet_quarto_3rd.jpg?width=300'/>\\n  <ul><li>William Szekspir - </li></ul><hr />\\n  <strong>Harry Potter</strong><img src='http://commons.wikimedia.org/wiki/Special:FilePath/Harry_Potter_wordmark.svg?width=300'/>\\n  <ul><li>J. K. Rowling - 1997</li></ul><hr />\\n  <strong>Hobbit, czyli tam i z powrotem</strong><img src=''/>\\n  <ul><li>John Ronald Reuel Tolkien - 1937</li></ul><hr />\\n  <strong>Hrabia Monte Christo</strong><img src='http://commons.wikimedia.org/wiki/Special:FilePath/Louis_Français-Dantès_sur_son_rocher.jpg?width=300'/>\\n  <ul><li>Aleksander Dumas (ojciec) - 1844</li></ul><hr />\\n  <strong>Kariera Nikodema Dyzmy</strong><img src=''/>\\n  <ul><li>Tadeusz Dołęga-Mostowicz - 1932</li></ul><hr />\\n  <strong>Krzyżacy (powieść)</strong><img src='http://commons.wikimedia.org/wiki/Special:FilePath/PL_Henryk_Sienkiewicz-Krzyżacy_0005.jpeg?width=300'/>\\n  <ul><li>Henryk Sienkiewicz - 1900</li></ul><hr />\\n  <strong>Lolita</strong><img src=''/>\\n  <ul><li>Vladimir Nabokov - 1955</li></ul><hr />\\n  <strong>Mein Kampf</strong><img src='http://commons.wikimedia.org/wiki/Special:FilePath/Landsberg.Jail.jpg?width=300'/>\\n  <ul><li>Adolf Hitler - 1925</li></ul><hr />\\n  <strong>Nad Niemnem</strong><img src='http://commons.wikimedia.org/wiki/Special:FilePath/Nad_Niemnem_-_manuscript.jpg?width=300'/>\\n  <ul><li>Eliza Orzeszkowa - 1888</li></ul><hr />\\n  <strong>Niedokończone opowieści</strong><img src=''/>\\n  <ul><li>Christopher Tolkien - 1980</li></ul><hr />\\n  <strong>Nowe Ateny</strong><img src='http://commons.wikimedia.org/wiki/Special:FilePath/Nowe_ateny1.jpg?width=300'/>\\n  <ul><li>Benedykt Chmielowski - 1745</li></ul><hr />\\n  <strong>Nowy wspaniały świat</strong><img src=''/>\\n  <ul><li>Aldous Huxley - 1932</li></ul><hr />\\n  <strong>Ogniem i mieczem</strong><img src='http://commons.wikimedia.org/wiki/Special:FilePath/Podbipieta.JPG?width=300'/>\\n  <ul><li>Henryk Sienkiewicz - 1884</li></ul><hr />\\n  <strong>Ojciec Goriot</strong><img src='http://commons.wikimedia.org/wiki/Special:FilePath/Father_Goriot_by_H._Daumier_(1842).JPG?width=300'/>\\n  <ul><li>Honoré de Balzac - 1835</li></ul><hr />\\n  <strong>Proces (powieść)</strong><img src='http://commons.wikimedia.org/wiki/Special:FilePath/Kafka_Der_Prozess_1925.jpg?width=300'/>\\n  <ul><li>Franz Kafka - 1925</li></ul><hr />\\n  <strong>Psałterz Dawidów</strong><img src='http://commons.wikimedia.org/wiki/Special:FilePath/Kochanowski_-_Psałterz_Dawidów_(1579).jpg?width=300'/>\\n  <ul><li>Jan Kochanowski - 1579</li></ul><hr />\\n  <strong>Quo vadis</strong><img src='http://commons.wikimedia.org/wiki/Special:FilePath/Rzym_popiersie_Sienkiewicza_w_kosciele_Domine_Quo_Vadis.JPG?width=300'/>\\n  <ul><li>Henryk Sienkiewicz - 1896</li></ul><hr />\\n  <strong>Romeo i Julia</strong><img src='http://commons.wikimedia.org/wiki/Special:FilePath/Romeo_and_juliet_brown.jpg?width=300'/>\\n  <ul><li>William Szekspir - 1597</li></ul><hr />\\n  <strong>Silmarillion</strong><img src='http://commons.wikimedia.org/wiki/Special:FilePath/Silmarrillion,_Just_under_the_Cover.jpg?width=300'/>\\n  <ul><li>John Ronald Reuel Tolkien - 1977</li></ul><hr />\\n  <strong>Solaris (powieść)</strong><img src='http://commons.wikimedia.org/wiki/Special:FilePath/Solaris,_various_editions_02.jpg?width=300'/>\\n  <ul><li>Stanisław Lem - 1961</li></ul><hr />\\n  <strong>Władca Pierścieni</strong><img src='http://commons.wikimedia.org/wiki/Special:FilePath/Unico_Anello.png?width=300'/>\\n  <ul><li>John Ronald Reuel Tolkien - 1954</li></ul><hr />\\n  <strong>Zew Cthulhu (opowiadanie)</strong><img src=''/>\\n  <ul><li>Howard Phillips Lovecraft - 1928</li></ul><hr />\\n  <strong>Znaczy Kapitan</strong><img src=''/>\\n  <ul><li>Karol Olgierd Borchardt - 1960</li></ul><hr />\\n  <strong>Anna Karenina</strong><img src='http://commons.wikimedia.org/wiki/Special:FilePath/AnnaKareninaTitle.jpg?width=300'/>\\n  <ul><li>Lew Tołstoj - 1877</li></ul><hr />\\n  <strong>Azazel (powieść)</strong><img src=''/>\\n  <ul><li>Boris Akunin - 1998</li></ul><hr />\\n  <strong>Bezsenność (zbiór opowiadań)</strong><img src=''/>\\n  <ul><li>Stanisław Lem - 1971</li></ul><hr />\\n  <strong>Cała prawda o planecie Ksi</strong><img src=''/>\\n  <ul><li>Janusz Zajdel - 1983</li></ul><hr />\\n  <strong>Dekorator</strong><img src=''/>\\n  <ul><li>Boris Akunin - 1998</li></ul><hr />\\n  <strong>Diamentowa karoca</strong><img src=''/>\\n  <ul><li>Boris Akunin - 2003</li></ul><hr />\\n  <strong>Dives in misericordia</strong><img src='http://commons.wikimedia.org/wiki/Special:FilePath/John_paul_2_coa.svg?width=300'/>\\n  <ul><li>Jan Paweł II - 1980</li></ul><hr />\\n  <strong>Droga na molo w Wigan</strong><img src=''/>\\n  <ul><li>George Orwell - 1937</li></ul><hr />\\n  <strong>Druga Fundacja</strong><img src=''/>\\n  <ul><li>Isaac Asimov - 1953</li></ul><hr />\\n  <strong>Dwanaście krzeseł</strong><img src='http://commons.wikimedia.org/wiki/Special:FilePath/Ostap_Bender_Monument_in_Kharkiv.jpg?width=300'/>\\n  <ul><li>Ilja Ilf - 1928</li></ul><hr />\\n  <strong>Fundacja (powieść)</strong><img src=''/>\\n  <ul><li>Isaac Asimov - 1951</li></ul><hr />\\n  <strong>Fundacja i Imperium</strong><img src=''/>\\n  <ul><li>Isaac Asimov - 1952</li></ul><hr />\\n  <strong>Gambit turecki</strong><img src=''/>\\n  <ul><li>Boris Akunin - 1998</li></ul><hr />\\n  <strong>Głos Pana</strong><img src=''/>\\n  <ul><li>Stanisław Lem - 1968</li></ul><hr />\\n  <strong>Ich czworo</strong><img src=''/>\\n  <ul><li>Gabriela Zapolska - 1907</li></ul><hr />\\n  <strong>Inwazja z Aldebarana (zbiór opowiadań)</strong><img src=''/>\\n  <ul><li>Stanisław Lem - 1959</li></ul><hr />\\n  <strong>Kamienna małpa</strong><img src=''/>\\n  <ul><li>Jeffery Deaver - 2002</li></ul><hr />\\n  <strong>Katar (powieść)</strong><img src=''/>\\n  <ul><li>Stanisław Lem - 1976</li></ul><hr />\\n  <strong>Kochanek Śmierci</strong><img src=''/>\\n  <ul><li>Boris Akunin - 2001</li></ul><hr />\\n  <strong>Kochanka Śmierci</strong><img src=''/>\\n  <ul><li>Boris Akunin - 2001</li></ul><hr />\\n  <strong>Koronacja (powieść)</strong><img src=''/>\\n  <ul><li>Boris Akunin - 1999</li></ul><hr />\\n  <strong>Kot w stanie czystym</strong><img src=''/>\\n  <ul><li>Terry Pratchett - 1989</li></ul><hr />\\n  <strong>Koń i jego chłopiec</strong><img src=''/>\\n  <ul><li>Clive Staples Lewis - 1954</li></ul><hr />\\n  <strong>Księga robotów</strong><img src=''/>\\n  <ul><li>Stanisław Lem - 1961</li></ul><hr />\\n  <strong>Księgi narodu polskiego i pielgrzymstwa polskiego</strong><img src='http://commons.wikimedia.org/wiki/Special:FilePath/PL_Księgi_narodu_polskiego_i_pielgrzymstwa_polskiego_008.png?width=300'/>\\n  <ul><li>Adam Mickiewicz - 1832</li></ul><hr />\\n  <strong>Kuzynki</strong><img src=''/>\\n  <ul><li>Andrzej Pilipiuk - 2003</li></ul><hr />\\n  <strong>Lewa ręka ciemności</strong><img src=''/>\\n  <ul><li>Ursula K. Le Guin - 1969</li></ul><hr />\\n  <strong>Lewiatan (powieść)</strong><img src=''/>\\n  <ul><li>Boris Akunin - 1998</li></ul><hr />\\n  <strong>Mag (powieść J. Deavera)</strong><img src=''/>\\n  <ul><li>Jeffery Deaver - 2003</li></ul><hr />\\n  <strong>Maska (zbiór dzieł)</strong><img src=''/>\\n  <ul><li>Stanisław Lem - 1976</li></ul><hr />\\n  <strong>Niezwyciężony i inne opowiadania</strong><img src=''/>\\n  <ul><li>Stanisław Lem - 1964</li></ul><hr />\\n  <strong>Noc księżycowa</strong><img src=''/>\\n  <ul><li>Stanisław Lem - 1963</li></ul><hr />\\n  <strong>Ojcowie i dzieci</strong><img src='http://commons.wikimedia.org/wiki/Special:FilePath/Otsy1880.jpg?width=300'/>\\n  <ul><li>Iwan Turgieniew - 0</li></ul><hr />\\n  <strong>Pamiętnik znaleziony w wannie</strong><img src=''/>\\n  <ul><li>Stanisław Lem - 1961</li></ul><hr />\\n  <strong>Pieśń Lodu i Ognia</strong><img src=''/>\\n  <ul><li>George R. R. Martin - 1996</li></ul><hr />\\n  <strong>Podróże z Herodotem</strong><img src=''/>\\n  <ul><li>Ryszard Kapuściński - 2004</li></ul><hr />\\n  <strong>Polowanie (zbiór opowiadań)</strong><img src=''/>\\n  <ul><li>Stanisław Lem - 1965</li></ul><hr />\\n  <strong>Powtórka (zbiór dzieł)</strong><img src=''/>\\n  <ul><li>Stanisław Lem - 1979</li></ul><hr />\\n  <strong>Pożytek ze smoka</strong><img src=''/>\\n  <ul><li>Stanisław Lem - 1993</li></ul><hr />\\n  <strong>Preludium Fundacji</strong><img src=''/>\\n  <ul><li>Isaac Asimov - 1988</li></ul><hr />\\n  <strong>Radca stanu (powieść)</strong><img src=''/>\\n  <ul><li>Boris Akunin - 1998</li></ul><hr />\\n  <strong>Rasa drapieżców. Teksty ostatnie</strong><img src=''/>\\n  <ul><li>Stanisław Lem - 2006</li></ul><hr />\\n  <strong>Rilla ze Złotego Brzegu</strong><img src=''/>\\n  <ul><li>Lucy Maud Montgomery - 1921</li></ul><hr />\\n  <strong>Sen nocy letniej</strong><img src='http://commons.wikimedia.org/wiki/Special:FilePath/MND_title_page.jpg?width=300'/>\\n  <ul><li>William Szekspir - 1600</li></ul><hr />\\n  <strong>Sezam i inne opowiadania</strong><img src=''/>\\n  <ul><li>Stanisław Lem - 1954</li></ul><hr />\\n  <strong>Slavorum apostoli</strong><img src='http://commons.wikimedia.org/wiki/Special:FilePath/John_paul_2_coa.svg?width=300'/>\\n  <ul><li>Jan Paweł II - 1985</li></ul><hr />\\n  <strong>Summa technologiae</strong><img src=''/>\\n  <ul><li>Stanisław Lem - 1964</li></ul><hr />\\n  <strong>Tam gdzie spadają anioły</strong><img src=''/>\\n  <ul><li>Dorota Terakowska - 1998</li></ul><hr />\\n  <strong>Tomek u źródeł Amazonki</strong><img src=''/>\\n  <ul><li>Alfred Szklarski - 1967</li></ul><hr />\\n  <strong>Tomek w Gran Chaco</strong><img src=''/>\\n  <ul><li>Alfred Szklarski - 1987</li></ul><hr />\\n  <strong>Tomek w grobowcach faraonów</strong><img src=''/>\\n  <ul><li>Alfred Szklarski - 1994</li></ul><hr />\\n  <strong>Ut unum sint</strong><img src='http://commons.wikimedia.org/wiki/Special:FilePath/John_paul_2_coa.svg?width=300'/>\\n  <ul><li>Jan Paweł II - 1995</li></ul><hr />\\n  <strong>Veritatis splendor</strong><img src='http://commons.wikimedia.org/wiki/Special:FilePath/John_paul_2_coa.svg?width=300'/>\\n  <ul><li>Jan Paweł II - 1993</li></ul><hr />\\n  <strong>Walc stulecia</strong><img src=''/>\\n  <ul><li>Rafał A. Ziemkiewicz - 1998</li></ul><hr />\\n  <strong>Walet pikowy (powieść)</strong><img src=''/>\\n  <ul><li>Boris Akunin - 1998</li></ul><hr />\\n  <strong>Wampir Lestat</strong><img src=''/>\\n  <ul><li>Anne Rice - 1985</li></ul><hr />\\n  <strong>Wizja lokalna (powieść)</strong><img src=''/>\\n  <ul><li>Stanisław Lem - 1982</li></ul><hr />\\n  <strong>Wojna i pokój</strong><img src='http://commons.wikimedia.org/wiki/Special:FilePath/War-and-peace_1873.gif?width=300'/>\\n  <ul><li>Lew Tołstoj - 1865</li></ul><hr />\\n  <strong>Śmierć Achillesa</strong><img src=''/>\\n  <ul><li>Boris Akunin - 1998</li></ul><hr />\\n  <strong>Życie i przygody Remusa</strong><img src=''/>\\n  <ul><li>Aleksander Majkowski - 1938</li></ul><hr />\\n  <strong>Casino Royale (powieść)</strong><img src=''/>\\n  <ul><li>Ian Fleming - 1953</li></ul><hr />\\n  <strong>Cień kata</strong><img src=''/>\\n  <ul><li>Gene Wolfe - 1980</li></ul><hr />\\n  <strong>Czarnoksiężnik z Archipelagu</strong><img src=''/>\\n  <ul><li>Ursula K. Le Guin - 1968</li></ul><hr />\\n  <strong>Czarownica z Portobello</strong><img src=''/>\\n  <ul><li>Paulo Coelho - 2006</li></ul><hr />\\n  <strong>Czas patriotów (powieść)</strong><img src=''/>\\n  <ul><li>Tom Clancy - 1987</li></ul>\""
      ]
     },
     "execution_count": 3,
     "metadata": {},
     "output_type": "execute_result"
    }
   ],
   "source": [
    "def display_book(book)\n",
    "  document = \"<hr />\n",
    "  <strong>#{book.title}</strong><img src='#{book.image_url}'/>\n",
    "  <ul>\"\n",
    "  document += \"<li>#{book.author.name} #{book.author.surname} - #{book.published}</li>\"\n",
    "  document += \"</ul>\"\n",
    "end\n",
    "  \n",
    "document = \"<h1> Wszystkie książki: </h1>\"\n",
    "books = Book.all\n",
    "\n",
    "books.each do |book|\n",
    "  document += display_book(book)\n",
    "end\n",
    "\n",
    "IRuby.html document"
   ]
  },
  {
   "cell_type": "markdown",
   "metadata": {},
   "source": [
    "### Zadanie 10"
   ]
  },
  {
   "cell_type": "markdown",
   "metadata": {},
   "source": [
    "Wyświetl wszystkich autorów znajdujących się w bazie wraz z opisem zawierającym ich zdjęcie, datę urodzin i śmierci oraz spis \n",
    "opublikowanych książek. Pamiętaj o odpowiednim sformatowaniu dat oraz o tym, że nie wszyscy autorzy mają przypisane wszystkie\n",
    "informacje."
   ]
  },
  {
   "cell_type": "code",
   "execution_count": 14,
   "metadata": {
    "collapsed": false
   },
   "outputs": [
    {
     "data": {
      "text/html": [
       "<h1> Autorzy: </h1><hr /><strong>Juliusz Słowacki</strong><br />ur. 04.09.1809 - zm. 03.04.1849<img src=''/>\n",
       "  <ul></ul><hr /><strong>Henryk Sienkiewicz</strong><br />ur. 05.05.1846 - zm. 05.11.1916<img src=''/>\n",
       "  <ul><li>Ogniem i mieczem - 1884</li><li>Quo vadis - 1896</li><li>Krzyżacy (powieść) - 1900</li></ul><hr /><strong>Eliza Orzeszkowa</strong><br />ur. 06.06.1841 - zm. 18.05.1910<img src=''/>\n",
       "  <ul><li>Nad Niemnem - 1888</li></ul><hr /><strong>Adam Mickiewicz</strong><br />ur. 24.12.1798 - zm. 26.11.1855<img src=''/>\n",
       "  <ul><li>Księgi narodu polskiego i pielgrzymstwa polskiego - 1832</li></ul><hr /><strong>Orson Scott Card</strong><br />ur. 24.08.1951<img src='http://commons.wikimedia.org/wiki/Special:FilePath/Orson_Scott_Card_at_BYU_Symposium_20080216_closeup.jpg?width=300'/>\n",
       "  <ul><li>Végjáték (regény) - </li></ul><hr /><strong>Andrzej Sapkowski</strong><br />ur. 21.06.1948<img src='http://commons.wikimedia.org/wiki/Special:FilePath/Sapkowski.jpg?width=300'/>\n",
       "  <ul><li>Pani Jeziora (powieść) - 1999</li></ul><hr /><strong>Jack London</strong><br />ur. 12.01.1876 - zm. 22.11.1916<img src='http://commons.wikimedia.org/wiki/Special:FilePath/JackLondon02.jpeg?width=300'/>\n",
       "  <ul><li>Bellew Zawierucha - 1912</li></ul><hr /><strong>Henning Mankell</strong><br />ur. 03.02.1948<img src='http://commons.wikimedia.org/wiki/Special:FilePath/Henning_Mankell_3_2011_Shankbone.jpg?width=300'/>\n",
       "  <ul><li>Fałszywy trop (powieść) - 1995</li></ul><hr /><strong>Stanisław Lem</strong><br />ur. 12.09.1921 - zm. 27.03.2006<img src='http://commons.wikimedia.org/wiki/Special:FilePath/Stanislaw_Lem_2.jpg?width=300'/>\n",
       "  <ul><li>Sezam i inne opowiadania - 1954</li><li>Inwazja z Aldebarana (zbiór opowiadań) - 1959</li><li>Solaris (powieść) - 1961</li><li>Księga robotów - 1961</li><li>Pamiętnik znaleziony w wannie - 1961</li><li>Noc księżycowa - 1963</li><li>Bajki robotów - 1964</li><li>Niezwyciężony i inne opowiadania - 1964</li><li>Summa technologiae - 1964</li><li>Polowanie (zbiór opowiadań) - 1965</li><li>Głos Pana - 1968</li><li>Bezsenność (zbiór opowiadań) - 1971</li><li>Katar (powieść) - 1976</li><li>Maska (zbiór dzieł) - 1976</li><li>Powtórka (zbiór dzieł) - 1979</li><li>Wizja lokalna (powieść) - 1982</li><li>Pożytek ze smoka - 1993</li><li>Rasa drapieżców. Teksty ostatnie - 2006</li></ul><hr /><strong>Antoni Gołubiew</strong><br />ur. 25.02.1907 - zm. 27.06.1979<img src='http://commons.wikimedia.org/wiki/Special:FilePath/Antoni_Golubiew.jpg?width=300'/>\n",
       "  <ul><li>Bolesław Chrobry (powieść) - 1947</li></ul><hr /><strong>Mikołaj Kopernik</strong><br />ur. 19.02.1473 - zm. 24.05.1543<img src='http://commons.wikimedia.org/wiki/Special:FilePath/Nikolaus_Kopernikus.jpg?width=300'/>\n",
       "  <ul><li>De revolutionibus orbium coelestium - 1543</li></ul><hr /><strong>Maria Franciszka Kozłowska</strong><br />ur. 27.05.1862<img src='http://commons.wikimedia.org/wiki/Special:FilePath/Mateczk_Kozłowska.JPG?width=300'/>\n",
       "  <ul><li>Dzieło Wielkiego Miłosierdzia - 1922</li></ul><hr /><strong>George Orwell</strong><br />ur. 25.06.1903 - zm. 21.01.1950<img src='http://commons.wikimedia.org/wiki/Special:FilePath/GeoreOrwell.jpg?width=300'/>\n",
       "  <ul><li>Droga na molo w Wigan - 1937</li><li>Folwark zwierzęcy - 1945</li></ul><hr /><strong>William Szekspir</strong><br />ur. 23.04.1564 - zm. 03.05.1616<img src='http://commons.wikimedia.org/wiki/Special:FilePath/Shakespeare.jpg?width=300'/>\n",
       "  <ul><li>Hamlet - </li><li>Romeo i Julia - 1597</li><li>Sen nocy letniej - 1600</li></ul><hr /><strong>J. K. Rowling</strong><br />ur. 31.07.1965<img src='http://commons.wikimedia.org/wiki/Special:FilePath/J._K._Rowling_2010.jpg?width=300'/>\n",
       "  <ul><li>Harry Potter - 1997</li></ul><hr /><strong>John Ronald Reuel Tolkien</strong><br />ur. 03.01.1892 - zm. 02.09.1973<img src='http://commons.wikimedia.org/wiki/Special:FilePath/Tolkien_1916.jpg?width=300'/>\n",
       "  <ul><li>Hobbit, czyli tam i z powrotem - 1937</li><li>Władca Pierścieni - 1954</li><li>Silmarillion - 1977</li></ul><hr /><strong>Aleksander Dumas (ojciec)</strong><br />ur. 24.07.1802 - zm. 05.12.1870<img src='http://commons.wikimedia.org/wiki/Special:FilePath/Dumas_by_Nadar,_1855.jpg?width=300'/>\n",
       "  <ul><li>Hrabia Monte Christo - 1844</li></ul><hr /><strong>Tadeusz Dołęga-Mostowicz</strong><br />ur. 10.08.1898 - zm. 20.09.1939<img src='http://commons.wikimedia.org/wiki/Special:FilePath/Tadeusz_Dolega-Mostowicz.jpg?width=300'/>\n",
       "  <ul><li>Kariera Nikodema Dyzmy - 1932</li></ul><hr /><strong>Vladimir Nabokov</strong><br />ur. 22.04.1899 - zm. 02.07.1977<img src='http://commons.wikimedia.org/wiki/Special:FilePath/Monument_Nabokov_Montreux_23.12.2006.jpg?width=300'/>\n",
       "  <ul><li>Lolita - 1955</li></ul><hr /><strong>Adolf Hitler</strong><br />ur. 20.04.1889 - zm. 30.04.1945<img src='http://commons.wikimedia.org/wiki/Special:FilePath/Hitler_portrait_crop.jpg?width=300'/>\n",
       "  <ul><li>Mein Kampf - 1925</li></ul><hr /><strong>Christopher Tolkien</strong><br />ur. 21.11.1924<img src=''/>\n",
       "  <ul><li>Niedokończone opowieści - 1980</li></ul><hr /><strong>Benedykt Chmielowski</strong><br />ur. 20.03.1700 - zm. 07.04.1763<img src='http://commons.wikimedia.org/wiki/Special:FilePath/POL_COA_Nałęcz.svg?width=300'/>\n",
       "  <ul><li>Nowe Ateny - 1745</li></ul><hr /><strong>Aldous Huxley</strong><br />ur. 26.07.1894 - zm. 22.11.1963<img src='http://commons.wikimedia.org/wiki/Special:FilePath/Aldous_Huxley.JPG?width=300'/>\n",
       "  <ul><li>Nowy wspaniały świat - 1932</li></ul><hr /><strong>Honoré de Balzac</strong><br />ur. 20.05.1799 - zm. 18.08.1850<img src='http://commons.wikimedia.org/wiki/Special:FilePath/HBalzac.jpg?width=300'/>\n",
       "  <ul><li>Ojciec Goriot - 1835</li></ul><hr /><strong>Franz Kafka</strong><br />ur. 03.07.1883 - zm. 03.06.1924<img src='http://commons.wikimedia.org/wiki/Special:FilePath/Kafka1906.jpg?width=300'/>\n",
       "  <ul><li>Proces (powieść) - 1925</li></ul><hr /><strong>Jan Kochanowski</strong><br />zm. 22.08.1584<img src='http://commons.wikimedia.org/wiki/Special:FilePath/Jan_Kochanowski.png?width=300'/>\n",
       "  <ul><li>Psałterz Dawidów - 1579</li></ul><hr /><strong>Howard Phillips Lovecraft</strong><br />ur. 20.08.1890 - zm. 15.03.1937<img src='http://commons.wikimedia.org/wiki/Special:FilePath/Howard_Phillips_Lovecraft_in_1915.jpg?width=300'/>\n",
       "  <ul><li>Zew Cthulhu (opowiadanie) - 1928</li></ul><hr /><strong>Karol Olgierd Borchardt</strong><br />ur. 25.03.1905 - zm. 20.05.1986<img src='http://commons.wikimedia.org/wiki/Special:FilePath/Karol_Olgierd_Borchardt's_house_in_Gdynia.jpg?width=300'/>\n",
       "  <ul><li>Znaczy Kapitan - 1960</li></ul><hr /><strong>Lew Tołstoj</strong><br />ur. 09.09.1828 - zm. 20.11.1910<img src='http://commons.wikimedia.org/wiki/Special:FilePath/Ilya_Efimovich_Repin_(1844-1930)_-_Portrait_of_Leo_Tolstoy_(1887).jpg?width=300'/>\n",
       "  <ul><li>Wojna i pokój - 1865</li><li>Anna Karenina - 1877</li></ul><hr /><strong>Boris Akunin</strong><br />ur. 20.05.1956<img src='http://commons.wikimedia.org/wiki/Special:FilePath/Boris_Akunin_2012.jpg?width=300'/>\n",
       "  <ul><li>Azazel (powieść) - 1998</li><li>Dekorator - 1998</li><li>Gambit turecki - 1998</li><li>Lewiatan (powieść) - 1998</li><li>Radca stanu (powieść) - 1998</li><li>Walet pikowy (powieść) - 1998</li><li>Śmierć Achillesa - 1998</li><li>Koronacja (powieść) - 1999</li><li>Kochanek Śmierci - 2001</li><li>Kochanka Śmierci - 2001</li><li>Diamentowa karoca - 2003</li></ul><hr /><strong>Janusz Zajdel</strong><br />ur. 15.08.1938 - zm. 19.07.1985<img src='http://commons.wikimedia.org/wiki/Special:FilePath/Janusz_A_Zajdel.jpg?width=300'/>\n",
       "  <ul><li>Cała prawda o planecie Ksi - 1983</li></ul><hr /><strong>Jan Paweł II</strong><br />ur. 18.05.1920 - zm. 02.04.2005<img src='http://commons.wikimedia.org/wiki/Special:FilePath/John_Paul_II_Medal_of_Freedom_2004.jpg?width=300'/>\n",
       "  <ul><li>Dives in misericordia - 1980</li><li>Slavorum apostoli - 1985</li><li>Veritatis splendor - 1993</li><li>Ut unum sint - 1995</li></ul><hr /><strong>Isaac Asimov</strong><br />ur. 04.10.1919 - zm. 06.04.1992<img src='http://commons.wikimedia.org/wiki/Special:FilePath/Isaac.Asimov01.jpg?width=300'/>\n",
       "  <ul><li>Fundacja (powieść) - 1951</li><li>Fundacja i Imperium - 1952</li><li>Druga Fundacja - 1953</li><li>Preludium Fundacji - 1988</li></ul><hr /><strong>Ilja Ilf</strong><br />ur. 15.10.1897 - zm. 13.04.1937<img src='http://commons.wikimedia.org/wiki/Special:FilePath/Ilya_Ilf.jpg?width=300'/>\n",
       "  <ul><li>Dwanaście krzeseł - 1928</li></ul><hr /><strong>Jewgienij Pietrow (pisarz)</strong><br />ur. 13.12.1903 - zm. 02.07.1942<img src='http://commons.wikimedia.org/wiki/Special:FilePath/Yevgeny_Petrov.jpg?width=300'/>\n",
       "  <ul></ul><hr /><strong>Gabriela Zapolska</strong><br />ur. 30.03.1857 - zm. 17.12.1921<img src='http://commons.wikimedia.org/wiki/Special:FilePath/Gabriela_Zapolska.PNG?width=300'/>\n",
       "  <ul><li>Ich czworo - 1907</li></ul><hr /><strong>Jeffery Deaver</strong><br />ur. 06.05.1950<img src='http://commons.wikimedia.org/wiki/Special:FilePath/Jeffery_Deaver_October_2006.jpg?width=300'/>\n",
       "  <ul><li>Kamienna małpa - 2002</li><li>Mag (powieść J. Deavera) - 2003</li></ul><hr /><strong>Terry Pratchett</strong><br />ur. 28.04.1948<img src='http://commons.wikimedia.org/wiki/Special:FilePath/Terry_Pratchett,_September_2009_1.jpg?width=300'/>\n",
       "  <ul><li>Kot w stanie czystym - 1989</li></ul><hr /><strong>Clive Staples Lewis</strong><br />ur. 29.11.1898 - zm. 22.11.1963<img src='http://commons.wikimedia.org/wiki/Special:FilePath/Statue_of_C.S._Lewis,_Belfast.jpg?width=300'/>\n",
       "  <ul><li>Koń i jego chłopiec - 1954</li></ul><hr /><strong>Andrzej Pilipiuk</strong><br />ur. 20.03.1974<img src='http://commons.wikimedia.org/wiki/Special:FilePath/Andrzej_Pilipiuk-Polcon2006.jpg?width=300'/>\n",
       "  <ul><li>Kuzynki - 2003</li></ul><hr /><strong>Ursula K. Le Guin</strong><br />ur. 21.10.1929<img src='http://commons.wikimedia.org/wiki/Special:FilePath/UrsulaLeGuin.01.jpg?width=300'/>\n",
       "  <ul><li>Czarnoksiężnik z Archipelagu - 1968</li><li>Lewa ręka ciemności - 1969</li></ul><hr /><strong>Iwan Turgieniew</strong><br />ur. 09.11.1818 - zm. 03.09.1883<img src='http://commons.wikimedia.org/wiki/Special:FilePath/Turgenev_by_Repin.jpg?width=300'/>\n",
       "  <ul><li>Ojcowie i dzieci - 0</li></ul><hr /><strong>George R. R. Martin</strong><br />ur. 20.09.1948<img src='http://commons.wikimedia.org/wiki/Special:FilePath/George_R_R_Martin_2011_Shankbone.JPG?width=300'/>\n",
       "  <ul><li>Pieśń Lodu i Ognia - 1996</li></ul><hr /><strong>Ryszard Kapuściński</strong><br />ur. 04.03.1932 - zm. 23.01.2007<img src='http://commons.wikimedia.org/wiki/Special:FilePath/Ryszard_Kapuscinski_by_Kubik_17.05.1997_-_cropped.jpg?width=300'/>\n",
       "  <ul><li>Podróże z Herodotem - 2004</li></ul><hr /><strong>Lucy Maud Montgomery</strong><br />ur. 30.11.1874 - zm. 24.04.1942<img src='http://commons.wikimedia.org/wiki/Special:FilePath/Lucy_Maud_Montgomery.JPG?width=300'/>\n",
       "  <ul><li>Rilla ze Złotego Brzegu - 1921</li></ul><hr /><strong>Dorota Terakowska</strong><br />ur. 30.08.1938 - zm. 04.01.2004<img src='http://commons.wikimedia.org/wiki/Special:FilePath/Dorota_Terakowska_grob.jpg?width=300'/>\n",
       "  <ul><li>Tam gdzie spadają anioły - 1998</li></ul><hr /><strong>Alfred Szklarski</strong><br />ur. 21.01.1912 - zm. 09.04.1992<img src='http://commons.wikimedia.org/wiki/Special:FilePath/Katowice_-_pomnik_Alfred_Szklarski.JPG?width=300'/>\n",
       "  <ul><li>Tomek u źródeł Amazonki - 1967</li><li>Tomek w Gran Chaco - 1987</li><li>Tomek w grobowcach faraonów - 1994</li></ul><hr /><strong>Adam Zelga</strong><br />ur. 11.03.1953<img src=''/>\n",
       "  <ul></ul><hr /><strong>Rafał A. Ziemkiewicz</strong><br />ur. 13.09.1964<img src='http://commons.wikimedia.org/wiki/Special:FilePath/Rafał_Ziemkiewicz.jpg?width=300'/>\n",
       "  <ul><li>Walc stulecia - 1998</li></ul><hr /><strong>Anne Rice</strong><br />ur. 04.10.1941<img src='http://commons.wikimedia.org/wiki/Special:FilePath/Anne_Rice.jpg?width=300'/>\n",
       "  <ul><li>Wampir Lestat - 1985</li></ul><hr /><strong>Aleksander Majkowski</strong><br />ur. 17.07.1876 - zm. 10.02.1938<img src='http://commons.wikimedia.org/wiki/Special:FilePath/POL_Polonia_Restituta_Oficerski_BAR.svg?width=300'/>\n",
       "  <ul><li>Życie i przygody Remusa - 1938</li></ul><hr /><strong>Ian Fleming</strong><br />ur. 28.05.1908 - zm. 12.08.1964<img src='http://commons.wikimedia.org/wiki/Special:FilePath/For_Your_Eyes_Only.jpg?width=300'/>\n",
       "  <ul><li>Casino Royale (powieść) - 1953</li></ul><hr /><strong>Gene Wolfe</strong><br />ur. 07.05.1931<img src='http://commons.wikimedia.org/wiki/Special:FilePath/Gene_Wolfe,_2005.png?width=300'/>\n",
       "  <ul><li>Cień kata - 1980</li></ul><hr /><strong>Paulo Coelho</strong><br />ur. 24.08.1947<img src='http://commons.wikimedia.org/wiki/Special:FilePath/Paulo_Coelho_nrkbeta.jpg?width=300'/>\n",
       "  <ul><li>Czarownica z Portobello - 2006</li></ul><hr /><strong>Tom Clancy</strong><br />ur. 12.04.1947 - zm. 01.10.2013<img src='http://commons.wikimedia.org/wiki/Special:FilePath/Tom_Clancy_at_Burns_Library_cropped.jpg?width=300'/>\n",
       "  <ul><li>Czas patriotów (powieść) - 1987</li></ul>"
      ],
      "text/plain": [
       "\"<h1> Autorzy: </h1><hr /><strong>Juliusz Słowacki</strong><br />ur. 04.09.1809 - zm. 03.04.1849<img src=''/>\\n  <ul></ul><hr /><strong>Henryk Sienkiewicz</strong><br />ur. 05.05.1846 - zm. 05.11.1916<img src=''/>\\n  <ul><li>Ogniem i mieczem - 1884</li><li>Quo vadis - 1896</li><li>Krzyżacy (powieść) - 1900</li></ul><hr /><strong>Eliza Orzeszkowa</strong><br />ur. 06.06.1841 - zm. 18.05.1910<img src=''/>\\n  <ul><li>Nad Niemnem - 1888</li></ul><hr /><strong>Adam Mickiewicz</strong><br />ur. 24.12.1798 - zm. 26.11.1855<img src=''/>\\n  <ul><li>Księgi narodu polskiego i pielgrzymstwa polskiego - 1832</li></ul><hr /><strong>Orson Scott Card</strong><br />ur. 24.08.1951<img src='http://commons.wikimedia.org/wiki/Special:FilePath/Orson_Scott_Card_at_BYU_Symposium_20080216_closeup.jpg?width=300'/>\\n  <ul><li>Végjáték (regény) - </li></ul><hr /><strong>Andrzej Sapkowski</strong><br />ur. 21.06.1948<img src='http://commons.wikimedia.org/wiki/Special:FilePath/Sapkowski.jpg?width=300'/>\\n  <ul><li>Pani Jeziora (powieść) - 1999</li></ul><hr /><strong>Jack London</strong><br />ur. 12.01.1876 - zm. 22.11.1916<img src='http://commons.wikimedia.org/wiki/Special:FilePath/JackLondon02.jpeg?width=300'/>\\n  <ul><li>Bellew Zawierucha - 1912</li></ul><hr /><strong>Henning Mankell</strong><br />ur. 03.02.1948<img src='http://commons.wikimedia.org/wiki/Special:FilePath/Henning_Mankell_3_2011_Shankbone.jpg?width=300'/>\\n  <ul><li>Fałszywy trop (powieść) - 1995</li></ul><hr /><strong>Stanisław Lem</strong><br />ur. 12.09.1921 - zm. 27.03.2006<img src='http://commons.wikimedia.org/wiki/Special:FilePath/Stanislaw_Lem_2.jpg?width=300'/>\\n  <ul><li>Sezam i inne opowiadania - 1954</li><li>Inwazja z Aldebarana (zbiór opowiadań) - 1959</li><li>Solaris (powieść) - 1961</li><li>Księga robotów - 1961</li><li>Pamiętnik znaleziony w wannie - 1961</li><li>Noc księżycowa - 1963</li><li>Bajki robotów - 1964</li><li>Niezwyciężony i inne opowiadania - 1964</li><li>Summa technologiae - 1964</li><li>Polowanie (zbiór opowiadań) - 1965</li><li>Głos Pana - 1968</li><li>Bezsenność (zbiór opowiadań) - 1971</li><li>Katar (powieść) - 1976</li><li>Maska (zbiór dzieł) - 1976</li><li>Powtórka (zbiór dzieł) - 1979</li><li>Wizja lokalna (powieść) - 1982</li><li>Pożytek ze smoka - 1993</li><li>Rasa drapieżców. Teksty ostatnie - 2006</li></ul><hr /><strong>Antoni Gołubiew</strong><br />ur. 25.02.1907 - zm. 27.06.1979<img src='http://commons.wikimedia.org/wiki/Special:FilePath/Antoni_Golubiew.jpg?width=300'/>\\n  <ul><li>Bolesław Chrobry (powieść) - 1947</li></ul><hr /><strong>Mikołaj Kopernik</strong><br />ur. 19.02.1473 - zm. 24.05.1543<img src='http://commons.wikimedia.org/wiki/Special:FilePath/Nikolaus_Kopernikus.jpg?width=300'/>\\n  <ul><li>De revolutionibus orbium coelestium - 1543</li></ul><hr /><strong>Maria Franciszka Kozłowska</strong><br />ur. 27.05.1862<img src='http://commons.wikimedia.org/wiki/Special:FilePath/Mateczk_Kozłowska.JPG?width=300'/>\\n  <ul><li>Dzieło Wielkiego Miłosierdzia - 1922</li></ul><hr /><strong>George Orwell</strong><br />ur. 25.06.1903 - zm. 21.01.1950<img src='http://commons.wikimedia.org/wiki/Special:FilePath/GeoreOrwell.jpg?width=300'/>\\n  <ul><li>Droga na molo w Wigan - 1937</li><li>Folwark zwierzęcy - 1945</li></ul><hr /><strong>William Szekspir</strong><br />ur. 23.04.1564 - zm. 03.05.1616<img src='http://commons.wikimedia.org/wiki/Special:FilePath/Shakespeare.jpg?width=300'/>\\n  <ul><li>Hamlet - </li><li>Romeo i Julia - 1597</li><li>Sen nocy letniej - 1600</li></ul><hr /><strong>J. K. Rowling</strong><br />ur. 31.07.1965<img src='http://commons.wikimedia.org/wiki/Special:FilePath/J._K._Rowling_2010.jpg?width=300'/>\\n  <ul><li>Harry Potter - 1997</li></ul><hr /><strong>John Ronald Reuel Tolkien</strong><br />ur. 03.01.1892 - zm. 02.09.1973<img src='http://commons.wikimedia.org/wiki/Special:FilePath/Tolkien_1916.jpg?width=300'/>\\n  <ul><li>Hobbit, czyli tam i z powrotem - 1937</li><li>Władca Pierścieni - 1954</li><li>Silmarillion - 1977</li></ul><hr /><strong>Aleksander Dumas (ojciec)</strong><br />ur. 24.07.1802 - zm. 05.12.1870<img src='http://commons.wikimedia.org/wiki/Special:FilePath/Dumas_by_Nadar,_1855.jpg?width=300'/>\\n  <ul><li>Hrabia Monte Christo - 1844</li></ul><hr /><strong>Tadeusz Dołęga-Mostowicz</strong><br />ur. 10.08.1898 - zm. 20.09.1939<img src='http://commons.wikimedia.org/wiki/Special:FilePath/Tadeusz_Dolega-Mostowicz.jpg?width=300'/>\\n  <ul><li>Kariera Nikodema Dyzmy - 1932</li></ul><hr /><strong>Vladimir Nabokov</strong><br />ur. 22.04.1899 - zm. 02.07.1977<img src='http://commons.wikimedia.org/wiki/Special:FilePath/Monument_Nabokov_Montreux_23.12.2006.jpg?width=300'/>\\n  <ul><li>Lolita - 1955</li></ul><hr /><strong>Adolf Hitler</strong><br />ur. 20.04.1889 - zm. 30.04.1945<img src='http://commons.wikimedia.org/wiki/Special:FilePath/Hitler_portrait_crop.jpg?width=300'/>\\n  <ul><li>Mein Kampf - 1925</li></ul><hr /><strong>Christopher Tolkien</strong><br />ur. 21.11.1924<img src=''/>\\n  <ul><li>Niedokończone opowieści - 1980</li></ul><hr /><strong>Benedykt Chmielowski</strong><br />ur. 20.03.1700 - zm. 07.04.1763<img src='http://commons.wikimedia.org/wiki/Special:FilePath/POL_COA_Nałęcz.svg?width=300'/>\\n  <ul><li>Nowe Ateny - 1745</li></ul><hr /><strong>Aldous Huxley</strong><br />ur. 26.07.1894 - zm. 22.11.1963<img src='http://commons.wikimedia.org/wiki/Special:FilePath/Aldous_Huxley.JPG?width=300'/>\\n  <ul><li>Nowy wspaniały świat - 1932</li></ul><hr /><strong>Honoré de Balzac</strong><br />ur. 20.05.1799 - zm. 18.08.1850<img src='http://commons.wikimedia.org/wiki/Special:FilePath/HBalzac.jpg?width=300'/>\\n  <ul><li>Ojciec Goriot - 1835</li></ul><hr /><strong>Franz Kafka</strong><br />ur. 03.07.1883 - zm. 03.06.1924<img src='http://commons.wikimedia.org/wiki/Special:FilePath/Kafka1906.jpg?width=300'/>\\n  <ul><li>Proces (powieść) - 1925</li></ul><hr /><strong>Jan Kochanowski</strong><br />zm. 22.08.1584<img src='http://commons.wikimedia.org/wiki/Special:FilePath/Jan_Kochanowski.png?width=300'/>\\n  <ul><li>Psałterz Dawidów - 1579</li></ul><hr /><strong>Howard Phillips Lovecraft</strong><br />ur. 20.08.1890 - zm. 15.03.1937<img src='http://commons.wikimedia.org/wiki/Special:FilePath/Howard_Phillips_Lovecraft_in_1915.jpg?width=300'/>\\n  <ul><li>Zew Cthulhu (opowiadanie) - 1928</li></ul><hr /><strong>Karol Olgierd Borchardt</strong><br />ur. 25.03.1905 - zm. 20.05.1986<img src='http://commons.wikimedia.org/wiki/Special:FilePath/Karol_Olgierd_Borchardt's_house_in_Gdynia.jpg?width=300'/>\\n  <ul><li>Znaczy Kapitan - 1960</li></ul><hr /><strong>Lew Tołstoj</strong><br />ur. 09.09.1828 - zm. 20.11.1910<img src='http://commons.wikimedia.org/wiki/Special:FilePath/Ilya_Efimovich_Repin_(1844-1930)_-_Portrait_of_Leo_Tolstoy_(1887).jpg?width=300'/>\\n  <ul><li>Wojna i pokój - 1865</li><li>Anna Karenina - 1877</li></ul><hr /><strong>Boris Akunin</strong><br />ur. 20.05.1956<img src='http://commons.wikimedia.org/wiki/Special:FilePath/Boris_Akunin_2012.jpg?width=300'/>\\n  <ul><li>Azazel (powieść) - 1998</li><li>Dekorator - 1998</li><li>Gambit turecki - 1998</li><li>Lewiatan (powieść) - 1998</li><li>Radca stanu (powieść) - 1998</li><li>Walet pikowy (powieść) - 1998</li><li>Śmierć Achillesa - 1998</li><li>Koronacja (powieść) - 1999</li><li>Kochanek Śmierci - 2001</li><li>Kochanka Śmierci - 2001</li><li>Diamentowa karoca - 2003</li></ul><hr /><strong>Janusz Zajdel</strong><br />ur. 15.08.1938 - zm. 19.07.1985<img src='http://commons.wikimedia.org/wiki/Special:FilePath/Janusz_A_Zajdel.jpg?width=300'/>\\n  <ul><li>Cała prawda o planecie Ksi - 1983</li></ul><hr /><strong>Jan Paweł II</strong><br />ur. 18.05.1920 - zm. 02.04.2005<img src='http://commons.wikimedia.org/wiki/Special:FilePath/John_Paul_II_Medal_of_Freedom_2004.jpg?width=300'/>\\n  <ul><li>Dives in misericordia - 1980</li><li>Slavorum apostoli - 1985</li><li>Veritatis splendor - 1993</li><li>Ut unum sint - 1995</li></ul><hr /><strong>Isaac Asimov</strong><br />ur. 04.10.1919 - zm. 06.04.1992<img src='http://commons.wikimedia.org/wiki/Special:FilePath/Isaac.Asimov01.jpg?width=300'/>\\n  <ul><li>Fundacja (powieść) - 1951</li><li>Fundacja i Imperium - 1952</li><li>Druga Fundacja - 1953</li><li>Preludium Fundacji - 1988</li></ul><hr /><strong>Ilja Ilf</strong><br />ur. 15.10.1897 - zm. 13.04.1937<img src='http://commons.wikimedia.org/wiki/Special:FilePath/Ilya_Ilf.jpg?width=300'/>\\n  <ul><li>Dwanaście krzeseł - 1928</li></ul><hr /><strong>Jewgienij Pietrow (pisarz)</strong><br />ur. 13.12.1903 - zm. 02.07.1942<img src='http://commons.wikimedia.org/wiki/Special:FilePath/Yevgeny_Petrov.jpg?width=300'/>\\n  <ul></ul><hr /><strong>Gabriela Zapolska</strong><br />ur. 30.03.1857 - zm. 17.12.1921<img src='http://commons.wikimedia.org/wiki/Special:FilePath/Gabriela_Zapolska.PNG?width=300'/>\\n  <ul><li>Ich czworo - 1907</li></ul><hr /><strong>Jeffery Deaver</strong><br />ur. 06.05.1950<img src='http://commons.wikimedia.org/wiki/Special:FilePath/Jeffery_Deaver_October_2006.jpg?width=300'/>\\n  <ul><li>Kamienna małpa - 2002</li><li>Mag (powieść J. Deavera) - 2003</li></ul><hr /><strong>Terry Pratchett</strong><br />ur. 28.04.1948<img src='http://commons.wikimedia.org/wiki/Special:FilePath/Terry_Pratchett,_September_2009_1.jpg?width=300'/>\\n  <ul><li>Kot w stanie czystym - 1989</li></ul><hr /><strong>Clive Staples Lewis</strong><br />ur. 29.11.1898 - zm. 22.11.1963<img src='http://commons.wikimedia.org/wiki/Special:FilePath/Statue_of_C.S._Lewis,_Belfast.jpg?width=300'/>\\n  <ul><li>Koń i jego chłopiec - 1954</li></ul><hr /><strong>Andrzej Pilipiuk</strong><br />ur. 20.03.1974<img src='http://commons.wikimedia.org/wiki/Special:FilePath/Andrzej_Pilipiuk-Polcon2006.jpg?width=300'/>\\n  <ul><li>Kuzynki - 2003</li></ul><hr /><strong>Ursula K. Le Guin</strong><br />ur. 21.10.1929<img src='http://commons.wikimedia.org/wiki/Special:FilePath/UrsulaLeGuin.01.jpg?width=300'/>\\n  <ul><li>Czarnoksiężnik z Archipelagu - 1968</li><li>Lewa ręka ciemności - 1969</li></ul><hr /><strong>Iwan Turgieniew</strong><br />ur. 09.11.1818 - zm. 03.09.1883<img src='http://commons.wikimedia.org/wiki/Special:FilePath/Turgenev_by_Repin.jpg?width=300'/>\\n  <ul><li>Ojcowie i dzieci - 0</li></ul><hr /><strong>George R. R. Martin</strong><br />ur. 20.09.1948<img src='http://commons.wikimedia.org/wiki/Special:FilePath/George_R_R_Martin_2011_Shankbone.JPG?width=300'/>\\n  <ul><li>Pieśń Lodu i Ognia - 1996</li></ul><hr /><strong>Ryszard Kapuściński</strong><br />ur. 04.03.1932 - zm. 23.01.2007<img src='http://commons.wikimedia.org/wiki/Special:FilePath/Ryszard_Kapuscinski_by_Kubik_17.05.1997_-_cropped.jpg?width=300'/>\\n  <ul><li>Podróże z Herodotem - 2004</li></ul><hr /><strong>Lucy Maud Montgomery</strong><br />ur. 30.11.1874 - zm. 24.04.1942<img src='http://commons.wikimedia.org/wiki/Special:FilePath/Lucy_Maud_Montgomery.JPG?width=300'/>\\n  <ul><li>Rilla ze Złotego Brzegu - 1921</li></ul><hr /><strong>Dorota Terakowska</strong><br />ur. 30.08.1938 - zm. 04.01.2004<img src='http://commons.wikimedia.org/wiki/Special:FilePath/Dorota_Terakowska_grob.jpg?width=300'/>\\n  <ul><li>Tam gdzie spadają anioły - 1998</li></ul><hr /><strong>Alfred Szklarski</strong><br />ur. 21.01.1912 - zm. 09.04.1992<img src='http://commons.wikimedia.org/wiki/Special:FilePath/Katowice_-_pomnik_Alfred_Szklarski.JPG?width=300'/>\\n  <ul><li>Tomek u źródeł Amazonki - 1967</li><li>Tomek w Gran Chaco - 1987</li><li>Tomek w grobowcach faraonów - 1994</li></ul><hr /><strong>Adam Zelga</strong><br />ur. 11.03.1953<img src=''/>\\n  <ul></ul><hr /><strong>Rafał A. Ziemkiewicz</strong><br />ur. 13.09.1964<img src='http://commons.wikimedia.org/wiki/Special:FilePath/Rafał_Ziemkiewicz.jpg?width=300'/>\\n  <ul><li>Walc stulecia - 1998</li></ul><hr /><strong>Anne Rice</strong><br />ur. 04.10.1941<img src='http://commons.wikimedia.org/wiki/Special:FilePath/Anne_Rice.jpg?width=300'/>\\n  <ul><li>Wampir Lestat - 1985</li></ul><hr /><strong>Aleksander Majkowski</strong><br />ur. 17.07.1876 - zm. 10.02.1938<img src='http://commons.wikimedia.org/wiki/Special:FilePath/POL_Polonia_Restituta_Oficerski_BAR.svg?width=300'/>\\n  <ul><li>Życie i przygody Remusa - 1938</li></ul><hr /><strong>Ian Fleming</strong><br />ur. 28.05.1908 - zm. 12.08.1964<img src='http://commons.wikimedia.org/wiki/Special:FilePath/For_Your_Eyes_Only.jpg?width=300'/>\\n  <ul><li>Casino Royale (powieść) - 1953</li></ul><hr /><strong>Gene Wolfe</strong><br />ur. 07.05.1931<img src='http://commons.wikimedia.org/wiki/Special:FilePath/Gene_Wolfe,_2005.png?width=300'/>\\n  <ul><li>Cień kata - 1980</li></ul><hr /><strong>Paulo Coelho</strong><br />ur. 24.08.1947<img src='http://commons.wikimedia.org/wiki/Special:FilePath/Paulo_Coelho_nrkbeta.jpg?width=300'/>\\n  <ul><li>Czarownica z Portobello - 2006</li></ul><hr /><strong>Tom Clancy</strong><br />ur. 12.04.1947 - zm. 01.10.2013<img src='http://commons.wikimedia.org/wiki/Special:FilePath/Tom_Clancy_at_Burns_Library_cropped.jpg?width=300'/>\\n  <ul><li>Czas patriotów (powieść) - 1987</li></ul>\""
      ]
     },
     "execution_count": 14,
     "metadata": {},
     "output_type": "execute_result"
    }
   ],
   "source": [
    "\n",
    "def display_author(author)\n",
    "  document = \"<hr /><strong>#{author.name} #{author.surname}</strong><br />\"\n",
    "  \n",
    "  if author.born  \n",
    "    document += \"ur. #{author.born.strftime('%d.%m.%Y')}\"\n",
    "  end\n",
    "  if author.born && author.died\n",
    "    document += \" - \"\n",
    "  end\n",
    "  if author.died \n",
    "    document += \"zm. #{author.died.strftime('%d.%m.%Y')}\"\n",
    "  end\n",
    "\n",
    "  document += \"<img src='#{author.image_url}'/>\n",
    "  <ul>\"\n",
    "    books = author.books.order(:published)\n",
    "  books.each do |book|\n",
    "    document += \"<li>#{book.title} - #{book.published}</li>\"\n",
    "  end\n",
    "   document += \"</ul>\"\n",
    "end\n",
    "  \n",
    "document = \"<h1> Autorzy: </h1>\"\n",
    "authors = Author.all\n",
    "authors.each do |author|\n",
    "  document += display_author(author)\n",
    "end\n",
    "\n",
    "IRuby.html document"
   ]
  },
  {
   "cell_type": "code",
   "execution_count": null,
   "metadata": {
    "collapsed": true
   },
   "outputs": [],
   "source": []
  }
 ],
 "metadata": {
  "kernelspec": {
   "display_name": "Ruby 2.2.3",
   "language": "ruby",
   "name": "ruby"
  },
  "language_info": {
   "file_extension": "rb",
   "mimetype": "application/x-ruby",
   "name": "ruby",
   "version": "2.2.3"
  }
 },
 "nbformat": 4,
 "nbformat_minor": 0
}
